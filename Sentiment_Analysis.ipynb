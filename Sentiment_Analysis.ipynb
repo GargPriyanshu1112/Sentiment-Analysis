{
  "cells": [
    {
      "cell_type": "markdown",
      "metadata": {
        "id": "pq7koqdRv_ul"
      },
      "source": [
        "# Import Dependencies"
      ]
    },
    {
      "cell_type": "code",
      "execution_count": 3,
      "metadata": {
        "id": "6Uy5XVe81IVP"
      },
      "outputs": [],
      "source": [
        "from string import punctuation\n",
        "from collections import Counter\n",
        "import numpy as np\n",
        "import pandas as pd\n",
        "import random\n",
        "import tensorflow as tf"
      ]
    },
    {
      "cell_type": "markdown",
      "metadata": {
        "id": "T7NK8kg-tpi1"
      },
      "source": [
        "# Load in the Data"
      ]
    },
    {
      "cell_type": "code",
      "execution_count": 4,
      "metadata": {
        "id": "V8pfPkdzwaUY"
      },
      "outputs": [],
      "source": [
        "# Read data from text files\n",
        "with open(\"reviews.txt\") as f:\n",
        "  reviews = f.read()\n",
        "\n",
        "with open(\"labels.txt\") as f:\n",
        "  labels = f.read()"
      ]
    },
    {
      "cell_type": "markdown",
      "metadata": {
        "id": "V0_891cswaR1"
      },
      "source": [
        "# Data Exploration"
      ]
    },
    {
      "cell_type": "code",
      "execution_count": 5,
      "metadata": {
        "colab": {
          "base_uri": "https://localhost:8080/",
          "height": 125
        },
        "id": "3hDswTlHwaN2",
        "outputId": "38d9fe42-1451-42bc-e9c0-ac626b8166f7"
      },
      "outputs": [
        {
          "data": {
            "application/vnd.google.colaboratory.intrinsic+json": {
              "type": "string"
            },
            "text/plain": [
              "'bromwell high is a cartoon comedy . it ran at the same time as some other programs about school life  such as  teachers  . my   years in the teaching profession lead me to believe that bromwell high  s satire is much closer to reality than is  teachers  . the scramble to survive financially  the insightful students who can see right through their pathetic teachers  pomp  the pettiness of the whole situation  all remind me of the schools i knew and their students . when i saw the episode in which a student repeatedly tried to burn down the school  i immediately recalled . . . . . . . . . at . . . . . . . . . . high . a classic line inspector i  m here to sack one of your teachers . student welcome to bromwell high . i expect that many adults of my age think that bromwell high is far fetched . what a pity that it isn  t   \\nstory of a man who has unnatural feelings for a pig . starts out with a opening scene that is a terrific example of absurd comedy . a formal orchestra audience is turned into an insane  violent mob by the crazy chantings of it  s singers . unfortunately it stays absurd the whole time with no general narrative eventually making it just too off putting . even those from the era should be turned off . the cryptic dialogue would make shakespeare seem easy to a third grader . on a technical level it  s better than you might think with some good cinematography by future great vilmos zsigmond . future stars sally kirkland and frederic forrest can be seen briefly .  \\nhomelessness  or houselessness as george carlin stated  has been an issue for years but never a plan to help those on the street that were once considered human who did everything from going to school  work  or vote for the matter . most people think of the homeless as just a lost cause while worrying about things such as racism  the war on iraq  pressuring kids to succeed  technology  the elections  inflation  or worrying if they  ll be next to end up on the streets .  br    br   but what if you were given a bet to live on the streets for a month without the luxuries you once had from a home  the entertainment sets  a bathroom  pictures on the wall  a computer  and everything you once treasure to see what it  s like to be homeless  that is goddard bolt  s lesson .  br    br   mel brooks  who directs  who stars as bolt plays a rich man who has everything in the world until deciding to make a bet with a sissy rival  jeffery tambor  to see if he can live in the streets for thirty days without the luxuries if bolt succeeds  he can do what he wants with a future project of making more buildings . the bet  s on where bolt is thrown on the street with a bracelet on his leg to monitor his every move where he can  t step off the sidewalk . he  s given the nickname pepto by a vagrant after it  s written on his forehead where bolt meets other characters including a woman by the name of molly  lesley ann warren  an ex  dancer who got divorce before losing her home  and her pals sailor  howard morris  and fumes  teddy wilson  who are already used to the streets . they  re survivors . bolt isn  t . he  s not used to reaching mutual agreements like he once did when being rich where it  s fight or flight  kill or be killed .  br    br   while the love connection between molly and bolt wasn  t necessary to plot  i found  life stinks  to be one of mel brooks  observant films where prior to being a comedy  it shows a tender side compared to his slapstick work such as blazing saddles  young frankenstein  or spaceballs for the matter  to show what it  s like having something valuable before losing it the next day or on the other hand making a stupid bet like all rich people do when they don  t know what to do with their money . maybe they should give it to the homeless instead of using it like monopoly money .  br    br   or maybe this film will inspire you to help others .  \\nairport    starts as a brand new luxury    plane is loaded up with valuable paintings  such belonging to rich businessman philip stevens  james stewart  who is flying them  a bunch of vip  s to his estate in preparation of it being opened to the public as a museum  also on board is stevens daughter julie  kathleen quinlan   her son . the luxury jetliner takes off as planned but mid  air the plane is hi  jacked by the co  pilot chambers  robert foxworth   his two accomplice  s banker  monte markham   wilson  michael pataki  who knock the passengers  crew out with sleeping gas  they plan to steal the valuable cargo  land on a disused plane strip on an isolated island but while making his descent chambers almost hits an oil rig in the ocean  loses control of the plane sending it crashing into the sea where it sinks to the bottom right bang in the middle of the bermuda triangle . with air in short supply  water leaking in  having flown over    miles off course the problems mount for the survivor  s as they await help with time fast running out . . .  br    br   also known under the sligh'"
            ]
          },
          "execution_count": 5,
          "metadata": {},
          "output_type": "execute_result"
        }
      ],
      "source": [
        "reviews[: 5000]"
      ]
    },
    {
      "cell_type": "code",
      "execution_count": 6,
      "metadata": {
        "colab": {
          "base_uri": "https://localhost:8080/"
        },
        "id": "nftXoEDa1PiV",
        "outputId": "b7b7af44-d85f-42e5-c89c-5774fa0a23ce"
      },
      "outputs": [
        {
          "data": {
            "text/plain": [
              "{'\\n',\n",
              " ' ',\n",
              " '.',\n",
              " 'a',\n",
              " 'b',\n",
              " 'c',\n",
              " 'd',\n",
              " 'e',\n",
              " 'f',\n",
              " 'g',\n",
              " 'h',\n",
              " 'i',\n",
              " 'j',\n",
              " 'k',\n",
              " 'l',\n",
              " 'm',\n",
              " 'n',\n",
              " 'o',\n",
              " 'p',\n",
              " 'q',\n",
              " 'r',\n",
              " 's',\n",
              " 't',\n",
              " 'u',\n",
              " 'v',\n",
              " 'w',\n",
              " 'x',\n",
              " 'y',\n",
              " 'z'}"
            ]
          },
          "execution_count": 6,
          "metadata": {},
          "output_type": "execute_result"
        }
      ],
      "source": [
        "# Characters present in reviews \n",
        "set(reviews)"
      ]
    },
    {
      "cell_type": "code",
      "execution_count": 7,
      "metadata": {
        "colab": {
          "base_uri": "https://localhost:8080/",
          "height": 125
        },
        "id": "yCAzcUAW7yiH",
        "outputId": "68420de8-ccc2-430b-8a26-8364d5e488a7"
      },
      "outputs": [
        {
          "data": {
            "application/vnd.google.colaboratory.intrinsic+json": {
              "type": "string"
            },
            "text/plain": [
              "'positive\\nnegative\\npositive\\nnegative\\npositive\\nnegative\\npositive\\nnegative\\npositive\\nnegative\\npositive\\nnegative\\npositive\\nnegative\\npositive\\nnegative\\npositive\\nnegative\\npositive\\nnegative\\npositive\\nnegative\\npositive\\nnegative\\npositive\\nnegative\\npositive\\nnegative\\npositive\\nnegative\\npositive\\nnegative\\npositive\\nnegative\\npositive\\nnegative\\npositive\\nnegative\\npositive\\nnegative\\npositive\\nnegative\\npositive\\nnegative\\npositive\\nnegative\\npositive\\nnegative\\npositive\\nnegative\\npositive\\nnegative\\npositive\\nnegative\\npositive\\nnegative\\npositive\\nnegative\\npositive\\nnegative\\npositive\\nnegative\\npositive\\nnegative\\npositive\\nnegative\\npositive\\nnegative\\npositive\\nnegative\\npositive\\nnegative\\npositive\\nnegative\\npositive\\nnegative\\npositive\\nnegative\\npositive\\nnegative\\npositive\\nnegative\\npositive\\nnegative\\npositive\\nnegative\\npositive\\nnegative\\npositive\\nnegative\\npositive\\nnegative\\npositive\\nnegative\\npositive\\nnegative\\npositive\\nnegative\\npositive\\nnegative\\npositive\\nnegative\\npositive\\nnegative\\npositive\\nnegative\\npositive\\nnegative\\npositive\\nnegative\\npositive\\nn'"
            ]
          },
          "execution_count": 7,
          "metadata": {},
          "output_type": "execute_result"
        }
      ],
      "source": [
        "labels[: 1000]"
      ]
    },
    {
      "cell_type": "markdown",
      "metadata": {
        "id": "ZIWhQX3zf40S"
      },
      "source": [
        ">We need to eliminate `'\\n'` character and other punctuations."
      ]
    },
    {
      "cell_type": "markdown",
      "metadata": {
        "id": "F-PY6P12wh8q"
      },
      "source": [
        "# Data Preprocessing"
      ]
    },
    {
      "cell_type": "code",
      "execution_count": 8,
      "metadata": {
        "colab": {
          "base_uri": "https://localhost:8080/",
          "height": 125
        },
        "id": "av2vrKZ2FBYs",
        "outputId": "a5293096-1cdd-4e83-d922-ea89a5db6083"
      },
      "outputs": [
        {
          "data": {
            "application/vnd.google.colaboratory.intrinsic+json": {
              "type": "string"
            },
            "text/plain": [
              "'bromwell high is a cartoon comedy  it ran at the same time as some other programs about school life  such as  teachers   my   years in the teaching profession lead me to believe that bromwell high  s satire is much closer to reality than is  teachers   the scramble to survive financially  the insightful students who can see right through their pathetic teachers  pomp  the pettiness of the whole situation  all remind me of the schools i knew and their students  when i saw the episode in which a student repeatedly tried to burn down the school  i immediately recalled          at           high  a classic line inspector i  m here to sack one of your teachers  student welcome to bromwell high  i expect that many adults of my age think that bromwell high is far fetched  what a pity that it isn  t    story of a man who has unnatural feelings for a pig  starts out with a opening scene that is a terrific example of absurd comedy  a formal orchestra audience is turned into an insane  violent mob by the crazy chantings of it  s singers  unfortunately it stays absurd the whole time with no general narrative eventually making it just too off putting  even those from the era should be turned off  the cryptic dialogue would make shakespeare seem easy to a third grader  on a technical level it  s better than you might think with some good cinematography by future great vilmos zsigmond  future stars sally kirkland and frederic forrest can be seen briefly    homelessness  or houselessness as george carlin stated  has been an issue for years but never a plan to help those on the street that were once considered human who did everything from going to school  work  or vote for the matter  most people think of the homeless as just a lost cause while worrying about things such as racism  the war on iraq  pressuring kids to succeed  technology  the elections  inflation  or worrying if they  ll be next to end up on the streets   br    br   but what if you were given a bet to live on the streets for a month without the luxuries you once had from a home  the entertainment sets  a bathroom  pictures on the wall  a computer  and everything you once treasure to see what it  s like to be homeless  that is goddard bolt  s lesson   br    br   mel brooks  who directs  who stars as bolt plays a rich man who has everything in the world until deciding to make a bet with a sissy rival  jeffery tambor  to see if he can live in the streets for thirty days without the luxuries if bolt succeeds  he can do what he wants with a future project of making more buildings  the bet  s on where bolt is thrown on the street with a bracelet on his leg to monitor his every move where he can  t step off the sidewalk  he  s given the nickname pepto by a vagrant after it  s written on his forehead where bolt meets other characters including a woman by the name of molly  lesley ann warren  an ex  dancer who got divorce before losing her home  and her pals sailor  howard morris  and fumes  teddy wilson  who are already used to the streets  they  re survivors  bolt isn  t  he  s not used to reaching mutual agreements like he once did when being rich where it  s fight or flight  kill or be killed   br    br   while the love connection between molly and bolt wasn  t necessary to plot  i found  life stinks  to be one of mel brooks  observant films where prior to being a comedy  it shows a tender side compared to his slapstick work such as blazing saddles  young frankenstein  or spaceballs for the matter  to show what it  s like having something valuable before losing it the next day or on the other hand making a stupid bet like all rich people do when they don  t know what to do with their money  maybe they should give it to the homeless instead of using it like monopoly money   br    br   or maybe this film will inspire you to help others    airport    starts as a brand new luxury    plane is loaded up with valuable paintings  such belonging to rich businessman philip stevens  james stewart  who is flying them  a bunch of vip  s to his estate in preparation of it being opened to the public as a museum  also on board is stevens daughter julie  kathleen quinlan   her son  the luxury jetliner takes off as planned but mid  air the plane is hi  jacked by the co  pilot chambers  robert foxworth   his two accomplice  s banker  monte markham   wilson  michael pataki  who knock the passengers  crew out with sleeping gas  they plan to steal the valuable cargo  land on a disused plane strip on an isolated island but while making his descent chambers almost hits an oil rig in the ocean  loses control of the plane sending it crashing into the sea where it sinks to the bottom right bang in the middle of the bermuda triangle  with air in short supply  water leaking in  having flown over    miles off course the problems mount for the survivor  s as they await help with time fast running out     br    br   also known under the slightly different tile airport     this second sequel to'"
            ]
          },
          "execution_count": 8,
          "metadata": {},
          "output_type": "execute_result"
        }
      ],
      "source": [
        "# Convert alphabets to lowercase\n",
        "text = reviews.lower()\n",
        "\n",
        "# Remove the punctuations\n",
        "text = ''.join([char  for char in text  if char not in punctuation])\n",
        "\n",
        "# Remove '\\n' character\n",
        "reviews_split = text.split('\\n') # List of reviews\n",
        "text = ' '.join(reviews_split)\n",
        "\n",
        "text[: 5000]"
      ]
    },
    {
      "cell_type": "code",
      "execution_count": 9,
      "metadata": {
        "colab": {
          "base_uri": "https://localhost:8080/"
        },
        "id": "xar34Or4cV1e",
        "outputId": "dc24a79e-16ad-4fc5-dca9-d5fea1e2775b"
      },
      "outputs": [
        {
          "data": {
            "text/plain": [
              "['positive',\n",
              " 'negative',\n",
              " 'positive',\n",
              " 'negative',\n",
              " 'positive',\n",
              " 'negative',\n",
              " 'positive',\n",
              " 'negative',\n",
              " 'positive',\n",
              " 'negative']"
            ]
          },
          "execution_count": 9,
          "metadata": {},
          "output_type": "execute_result"
        }
      ],
      "source": [
        "labels = labels.split()\n",
        "labels[: 10]"
      ]
    },
    {
      "cell_type": "code",
      "execution_count": 10,
      "metadata": {
        "colab": {
          "base_uri": "https://localhost:8080/"
        },
        "id": "zVmO14LWVMbO",
        "outputId": "9268875b-6553-4834-b446-d58a147041a0"
      },
      "outputs": [
        {
          "name": "stdout",
          "output_type": "stream",
          "text": [
            "Zero-length reviews: 1\n"
          ]
        }
      ],
      "source": [
        "# Check if zero-length reviews are present\n",
        "review_lengths = Counter(len(review.split())  for review in reviews_split)\n",
        "print(f\"Zero-length reviews: {review_lengths[0]}\")"
      ]
    },
    {
      "cell_type": "code",
      "execution_count": 11,
      "metadata": {
        "id": "21XIlRHtWzZp"
      },
      "outputs": [],
      "source": [
        "# Get index of reviews having non-zero length\n",
        "non_zero_idxs = [idx  for idx, review in enumerate(reviews_split)  if len(review)!=0]\n",
        "\n",
        "# Remove zero-length reviews and their corresponding labels\n",
        "reviews_split = [reviews_split[idx]  for idx in non_zero_idxs]\n",
        "labels = [labels[idx]  for idx in non_zero_idxs]"
      ]
    },
    {
      "cell_type": "code",
      "execution_count": 12,
      "metadata": {
        "colab": {
          "base_uri": "https://localhost:8080/"
        },
        "id": "Pqp1qZse6R3E",
        "outputId": "bad7fc0f-8415-41b4-a311-e1c04848e042"
      },
      "outputs": [
        {
          "name": "stdout",
          "output_type": "stream",
          "text": [
            "No. of reviews: 25000\n",
            "No. of labels : 25000\n"
          ]
        }
      ],
      "source": [
        "print(f\"No. of reviews: {len(reviews_split)}\")\n",
        "print(f\"No. of labels : {len(labels)}\")"
      ]
    },
    {
      "cell_type": "markdown",
      "metadata": {
        "id": "mjgSAvF_h3aH"
      },
      "source": [
        "# Get Vocabulary"
      ]
    },
    {
      "cell_type": "code",
      "execution_count": 13,
      "metadata": {
        "colab": {
          "base_uri": "https://localhost:8080/"
        },
        "id": "As78k33QAB4_",
        "outputId": "1ba9d849-fde1-41c1-f1c7-baa64e144b8c"
      },
      "outputs": [
        {
          "name": "stdout",
          "output_type": "stream",
          "text": [
            "\n",
            "There are a total of 6020196 words in reviews.\n",
            "\n",
            "Some of the are:\n",
            "   ['bromwell', 'high', 'is', 'a', 'cartoon', 'comedy', 'it', 'ran', 'at', 'the', 'same', 'time', 'as', 'some', 'other']\n"
          ]
        }
      ],
      "source": [
        "# Get a list of words used in reviews\n",
        "words = text.split()\n",
        "print(f\"\\nThere are a total of {len(words)} words in reviews.\")\n",
        "print()\n",
        "print(f\"Some of the are:\\n   {words[: 15]}\")"
      ]
    },
    {
      "cell_type": "code",
      "execution_count": 14,
      "metadata": {
        "colab": {
          "base_uri": "https://localhost:8080/"
        },
        "id": "wO_YoFSYKmsV",
        "outputId": "326fdfe5-4ff4-458e-c0f7-03ec3d340c26"
      },
      "outputs": [
        {
          "name": "stdout",
          "output_type": "stream",
          "text": [
            "There are 74072 words in the vocabulary.\n"
          ]
        }
      ],
      "source": [
        "# Get vocabulary\n",
        "vocabulary = set(words)\n",
        "print(f\"There are {len(vocabulary)} words in the vocabulary.\")"
      ]
    },
    {
      "cell_type": "markdown",
      "metadata": {
        "id": "BNNTIyOmeWGn"
      },
      "source": [
        "# Encoding the Words\n",
        "\n",
        "\n",
        ">We pass in integers to our network. Therefore, we need to create dictionaries that map the words in the vocabulary to integers. Then we can convert each of our reviews into integers so they can be passed into the network.\n"
      ]
    },
    {
      "cell_type": "code",
      "execution_count": 15,
      "metadata": {
        "colab": {
          "base_uri": "https://localhost:8080/"
        },
        "id": "a_tiHRzXyWlI",
        "outputId": "70947eab-98f2-44ff-81ea-939b5b37c548"
      },
      "outputs": [
        {
          "data": {
            "text/plain": [
              "{'cahoots': 2,\n",
              " 'college': 4,\n",
              " 'contless': 8,\n",
              " 'hogg': 6,\n",
              " 'hooooottttttttttt': 5,\n",
              " 'huntley': 9,\n",
              " 'inferno': 7,\n",
              " 'lassiter': 10,\n",
              " 'overstuffed': 1,\n",
              " 'revelling': 3}"
            ]
          },
          "execution_count": 15,
          "metadata": {},
          "output_type": "execute_result"
        }
      ],
      "source": [
        "# Encode the words to integers\n",
        "# The integers start from 1 (and not 0) as we'll pad our input vectors with zeros later\n",
        "vocab_to_int = {word: idx  for idx, word in enumerate(vocabulary, 1)}\n",
        "\n",
        "\n",
        "dict(list(vocab_to_int.items())[:10])"
      ]
    },
    {
      "cell_type": "code",
      "execution_count": 23,
      "metadata": {
        "id": "OoFBbms0Odri"
      },
      "outputs": [],
      "source": [
        "# int_vocab = dict(enumerate(unique_words))\n",
        "\n",
        "# dict(list(int_vocab.items())[:10])"
      ]
    },
    {
      "cell_type": "markdown",
      "metadata": {
        "id": "qqUAEPUhRrgk"
      },
      "source": [
        "# Encoding the Reviews"
      ]
    },
    {
      "cell_type": "code",
      "execution_count": 16,
      "metadata": {
        "id": "-hCBm_uRSeSs"
      },
      "outputs": [],
      "source": [
        "reviews_int = [] # Will store encoded reviews\n",
        "\n",
        "# Encode each review\n",
        "for review in reviews_split:\n",
        "  reviews_int.append([vocab_to_int[word]  for word in review.split()])"
      ]
    },
    {
      "cell_type": "code",
      "execution_count": 18,
      "metadata": {
        "colab": {
          "base_uri": "https://localhost:8080/"
        },
        "id": "NEEqBATa5Szf",
        "outputId": "31bfad70-2bd8-49d9-b6ac-f1c15c6a048e"
      },
      "outputs": [
        {
          "name": "stdout",
          "output_type": "stream",
          "text": [
            "REVIEW:\n",
            "   cinderella is a beautiful film  with beautiful songs of course  in fact  it  s one of the best films of the      s   br    br   i think all the characters are portrayed amazingly  you can see the cruelness of cinderella  s stepsisters and her stepmother  the sweetness of cinderella  the mice are funny and sweet too   br    br   i think they changed the tale a bit  but i think it  s for the best  it  s such a nice film  and i don  t think anyone could resist it deep down   br    br   i give it a      i don  t think it  s the best disney film  but it sure is a true classic   \n",
            "\n",
            "   No. of words in the review: 113\n",
            "\n",
            "--------------------\n",
            "\n",
            "TOKENIZED VERSION:\n",
            "   [53792, 66441, 43872, 29999, 45180, 61694, 29999, 46575, 6022, 39994, 27913, 65847, 28811, 41376, 72132, 6022, 1126, 60282, 9642, 6022, 1126, 41376, 52756, 52756, 69604, 1194, 32147, 1126, 71363, 72610, 58970, 31031, 54493, 72931, 55891, 1126, 18814, 6022, 53792, 41376, 176, 48771, 5251, 61443, 1126, 70267, 6022, 53792, 1126, 58256, 72610, 71352, 48771, 10121, 26212, 52756, 52756, 69604, 1194, 24742, 43989, 1126, 34336, 43872, 65561, 50350, 69604, 1194, 28811, 41376, 32735, 1126, 60282, 28811, 41376, 67565, 43872, 52693, 45180, 48771, 69604, 64611, 68285, 1194, 38559, 73228, 20370, 28811, 37007, 52350, 52756, 52756, 69604, 73638, 28811, 43872, 69604, 64611, 68285, 1194, 28811, 41376, 1126, 60282, 46934, 45180, 50350, 28811, 7364, 66441, 43872, 1279, 67536]\n",
            "\n",
            "   No. of tokens in the encoded version: 113\n"
          ]
        }
      ],
      "source": [
        "rand_idx = random.randint(0, len(reviews_split))\n",
        "\n",
        "print(f\"REVIEW:\\n   {reviews_split[rand_idx]}\\n\")\n",
        "print(f\"   No. of words in the review: {len(reviews_split[rand_idx].split())}\\n\")\n",
        "\n",
        "print(\"-\" * 20)\n",
        "\n",
        "print(f\"\\nTOKENIZED VERSION:\\n   {reviews_int[rand_idx]}\\n\")\n",
        "print(f\"   No. of tokens in the encoded version: {len(reviews_int[rand_idx])}\")\n"
      ]
    },
    {
      "cell_type": "markdown",
      "metadata": {
        "id": "thGTreQR874O"
      },
      "source": [
        "# Encoding the Labels"
      ]
    },
    {
      "cell_type": "code",
      "execution_count": 19,
      "metadata": {
        "colab": {
          "base_uri": "https://localhost:8080/"
        },
        "id": "M3cW2g1j8_Xj",
        "outputId": "72064c87-03a3-4bd1-fe57-e2c24f43cccc"
      },
      "outputs": [
        {
          "name": "stdout",
          "output_type": "stream",
          "text": [
            "LABEL:\n",
            "   negative\n",
            "\n",
            "ENCODED VERSION:\n",
            "   0\n",
            "\n"
          ]
        }
      ],
      "source": [
        "rand_idx = random.randint(0, len(labels))\n",
        "\n",
        "encoded_labels = np.array([1 if label==\"positive\" else 0  for label in labels])\n",
        "\n",
        "print(f\"LABEL:\\n   {labels[rand_idx]}\")\n",
        "print(f\"\\nENCODED VERSION:\\n   {encoded_labels[rand_idx]}\\n\")"
      ]
    },
    {
      "cell_type": "code",
      "execution_count": 28,
      "metadata": {
        "colab": {
          "base_uri": "https://localhost:8080/"
        },
        "id": "UGfH6HUQTcGq",
        "outputId": "452d22a7-54a0-4416-f3f5-4dfaa4d1478c"
      },
      "outputs": [
        {
          "name": "stdout",
          "output_type": "stream",
          "text": [
            "The length of the longest review is 2514.\n",
            "The average length of reviews is 240.81\n"
          ]
        }
      ],
      "source": [
        "# Get length of the longest review\n",
        "max_len = max(len(review)  for review in reviews_int)\n",
        "\n",
        "# Get the average length of reviews\n",
        "avg_len = sum([len(review)  for review in reviews_int]) / len(reviews_int)\n",
        "\n",
        "print(f\"The length of the longest review is {max_len}.\")\n",
        "print(f\"The average length of reviews is {avg_len:.2f}\")"
      ]
    },
    {
      "cell_type": "code",
      "execution_count": 49,
      "metadata": {
        "colab": {
          "base_uri": "https://localhost:8080/"
        },
        "id": "xrYRy0jbvLCS",
        "outputId": "2dcbfef6-878f-44f4-b7ad-1213873cd66c"
      },
      "outputs": [
        {
          "data": {
            "text/plain": [
              "471.0"
            ]
          },
          "execution_count": 49,
          "metadata": {},
          "output_type": "execute_result"
        }
      ],
      "source": [
        "lengths = [len(review)  for review in reviews_int]\n",
        "np.percentile(lengths, q=90)"
      ]
    },
    {
      "cell_type": "markdown",
      "metadata": {
        "id": "ijWR314JggCo"
      },
      "source": [
        "# Padding of Reviews"
      ]
    },
    {
      "cell_type": "code",
      "execution_count": 48,
      "metadata": {
        "id": "9le0fC2eVgnE"
      },
      "outputs": [],
      "source": [
        "def pad_reviews_with_zeros(reviews_int, seq_length):\n",
        "  features = np.zeros((len(reviews_int), seq_length), dtype=np.int32)\n",
        "\n",
        "  for idx, review in enumerate(reviews_int):\n",
        "    features[idx][-len(review):] = np.array(review)[:seq_length] \n",
        "\n",
        "  return features"
      ]
    },
    {
      "cell_type": "code",
      "execution_count": 50,
      "metadata": {
        "colab": {
          "base_uri": "https://localhost:8080/"
        },
        "id": "dSk7-76XI13v",
        "outputId": "9eb62e69-a557-4b22-a009-7103f4edbddd"
      },
      "outputs": [
        {
          "data": {
            "text/plain": [
              "array([[    0,     0,     0, ..., 28811, 19072, 68285],\n",
              "       [    0,     0,     0, ..., 62372, 73237, 27042],\n",
              "       [    0,     0,     0, ..., 36557, 61051, 71753],\n",
              "       ...,\n",
              "       [    0,     0,     0, ..., 43632, 14261, 27368],\n",
              "       [    0,     0,     0, ..., 63797, 10235, 53450],\n",
              "       [    0,     0,     0, ..., 40013, 66441,   283]], dtype=int32)"
            ]
          },
          "execution_count": 50,
          "metadata": {},
          "output_type": "execute_result"
        }
      ],
      "source": [
        "features = pad_reviews_with_zeros(reviews_int, seq_length=512)\n",
        "features"
      ]
    },
    {
      "cell_type": "markdown",
      "metadata": {
        "id": "fzpw7zOYiXgw"
      },
      "source": [
        "# Train-Test Split"
      ]
    },
    {
      "cell_type": "code",
      "execution_count": 53,
      "metadata": {
        "id": "qF01wHaz7ltV"
      },
      "outputs": [],
      "source": [
        "from sklearn.model_selection import train_test_split"
      ]
    },
    {
      "cell_type": "code",
      "execution_count": 54,
      "metadata": {
        "colab": {
          "base_uri": "https://localhost:8080/"
        },
        "id": "goEMMwex7r-v",
        "outputId": "4972b431-b779-4334-e65c-67d1b72c3813"
      },
      "outputs": [
        {
          "name": "stdout",
          "output_type": "stream",
          "text": [
            "\n",
            "X_train shape: (20000, 512)\n",
            "y_train shape: (20000,)\n",
            "X_test shape : (5000, 512)\n",
            "y_test shape : (5000,)\n"
          ]
        }
      ],
      "source": [
        "X_train, X_test, y_train, y_test = train_test_split(features, encoded_labels,\n",
        "                                                    test_size=0.2,\n",
        "                                                    shuffle=True)\n",
        "\n",
        "\n",
        "print(f\"\"\"\n",
        "X_train shape: {X_train.shape}\n",
        "y_train shape: {y_train.shape}\n",
        "X_test shape : {X_test.shape}\n",
        "y_test shape : {y_test.shape}\"\"\")"
      ]
    },
    {
      "cell_type": "markdown",
      "metadata": {
        "id": "WA8lhhlb8jvU"
      },
      "source": [
        "# Generate Datasets"
      ]
    },
    {
      "cell_type": "code",
      "execution_count": 57,
      "metadata": {
        "id": "CQ44OjWj8jsG"
      },
      "outputs": [],
      "source": [
        "def get_training_dataset(X_train, y_train, batch_size=32):\n",
        "  train_dataset = tf.data.Dataset.from_tensor_slices((X_train, y_train))\n",
        "  train_dataset = train_dataset.shuffle(buffer_size=len(X_train), reshuffle_each_iteration=True)\n",
        "  train_dataset = train_dataset.batch(batch_size)\n",
        "  train_dataset = train_dataset.prefetch(buffer_size=tf.data.AUTOTUNE)\n",
        "\n",
        "  return train_dataset"
      ]
    },
    {
      "cell_type": "code",
      "execution_count": 58,
      "metadata": {
        "id": "sc2CtwDT7llV"
      },
      "outputs": [],
      "source": [
        "def get_validation_dataset(X_test, y_test, batch_size=32):\n",
        "  validation_dataset = tf.data.Dataset.from_tensor_slices((X_train, y_train))\n",
        "  validation_dataset = validation_dataset.batch(batch_size)\n",
        "\n",
        "  return validation_dataset"
      ]
    },
    {
      "cell_type": "code",
      "execution_count": 59,
      "metadata": {
        "id": "RBjV7Mr4AZj4"
      },
      "outputs": [],
      "source": [
        "# Get training dataset\n",
        "train_dataset = get_training_dataset(X_train, y_train, batch_size=32)\n",
        "\n",
        "# Get validaton dataset\n",
        "validation_dataset = get_validation_dataset(X_test, y_test, batch_size=32)"
      ]
    },
    {
      "cell_type": "code",
      "execution_count": 63,
      "metadata": {
        "colab": {
          "base_uri": "https://localhost:8080/"
        },
        "id": "DLcWk3fEAZeq",
        "outputId": "97efb567-3260-4b2d-d427-886f636ed946"
      },
      "outputs": [
        {
          "name": "stdout",
          "output_type": "stream",
          "text": [
            "\t*** SAMPLE TRAIN BATCH ***\n",
            "\n",
            "Input shape: (32, 512)\n",
            "Input: \n",
            "[[    0     0     0 ... 28811 35984 71938]\n",
            " [    0     0     0 ... 31758 66441 33276]\n",
            " [    0     0     0 ... 68355 52756 52756]\n",
            " ...\n",
            " [    0     0     0 ... 34703 40395  5964]\n",
            " [    0     0     0 ... 35282 48771 13926]\n",
            " [    0     0     0 ... 54493 27913 32393]]\n",
            "\n",
            "\n",
            "Label shape: (32,)\n",
            "Label: \n",
            "[0 0 0 1 1 1 0 1 0 1 1 1 0 0 0 1 1 1 0 0 0 0 0 1 0 1 0 1 0 1 1 1]\n"
          ]
        }
      ],
      "source": [
        "# Get sample training dataset\n",
        "sample_x, sample_y = train_dataset.as_numpy_iterator().next()\n",
        "\n",
        "print(f\"\\t*** SAMPLE TRAIN BATCH ***\\n\")\n",
        "print(f'Input shape: {sample_x.shape}') \n",
        "print(f'Input: \\n{sample_x}')\n",
        "print(\"\\n\")\n",
        "print(f'Label shape: {sample_y.shape}') \n",
        "print(f'Label: \\n{sample_y}')"
      ]
    },
    {
      "cell_type": "markdown",
      "metadata": {
        "id": "KAYFh4gbemq5"
      },
      "source": [
        "# Model Engineering"
      ]
    },
    {
      "cell_type": "code",
      "execution_count": null,
      "metadata": {
        "id": "Gfmoe1B7emq6"
      },
      "outputs": [],
      "source": [
        "from tensorflow.keras import layers"
      ]
    },
    {
      "cell_type": "code",
      "execution_count": null,
      "metadata": {
        "id": "fTUhRU1lG-Eu"
      },
      "outputs": [],
      "source": [
        "embedding = layers.Embedding(input_dim=len(vocab_to_int)+1, # +1 for 0 padding\n",
        "                             output_dim=512,\n",
        "                             embeddings_initializer=\"uniform\",\n",
        "                             input_length=512)"
      ]
    },
    {
      "cell_type": "code",
      "execution_count": null,
      "metadata": {
        "id": "46ZSuoySG-CQ",
        "outputId": "d4c1fb1e-fe67-490d-f0c2-cfeb575ae897"
      },
      "outputs": [
        {
          "data": {
            "text/plain": [
              "<tf.Tensor: shape=(512, 512), dtype=float32, numpy=\n",
              "array([[ 0.01910799, -0.03634294, -0.01152693, ...,  0.04791348,\n",
              "        -0.04234217, -0.00322814],\n",
              "       [ 0.01910799, -0.03634294, -0.01152693, ...,  0.04791348,\n",
              "        -0.04234217, -0.00322814],\n",
              "       [ 0.01910799, -0.03634294, -0.01152693, ...,  0.04791348,\n",
              "        -0.04234217, -0.00322814],\n",
              "       ...,\n",
              "       [ 0.02234991, -0.0158273 , -0.04439408, ..., -0.00085592,\n",
              "         0.00873505, -0.01997552],\n",
              "       [-0.01615602, -0.01785319, -0.04988476, ...,  0.03678954,\n",
              "         0.00559428, -0.01309067],\n",
              "       [ 0.01313286, -0.04200964,  0.03257532, ...,  0.04810972,\n",
              "         0.00552788,  0.02484614]], dtype=float32)>"
            ]
          },
          "execution_count": 36,
          "metadata": {},
          "output_type": "execute_result"
        }
      ],
      "source": [
        "embedding(features[0])"
      ]
    },
    {
      "cell_type": "code",
      "execution_count": null,
      "metadata": {
        "id": "61aaOXbEG9_c",
        "outputId": "2cb71997-060d-4db2-d514-f907bf1ce2d0"
      },
      "outputs": [
        {
          "ename": "SyntaxError",
          "evalue": "invalid syntax (3214975404.py, line 2)",
          "output_type": "error",
          "traceback": [
            "\u001b[1;36m  Input \u001b[1;32mIn [37]\u001b[1;36m\u001b[0m\n\u001b[1;33m    x = layers.LSTM(units=256, dropout=)\u001b[0m\n\u001b[1;37m                                       ^\u001b[0m\n\u001b[1;31mSyntaxError\u001b[0m\u001b[1;31m:\u001b[0m invalid syntax\n"
          ]
        }
      ],
      "source": [
        "inputs = layers.Input(shape=(512), dtype=tf.float32)\n",
        "x = layers.LSTM(units=256, dropout=)"
      ]
    },
    {
      "cell_type": "code",
      "execution_count": null,
      "metadata": {
        "id": "AiwKC6MYQpn5"
      },
      "outputs": [],
      "source": [
        "# rev = [[12, 13, 15],\n",
        "#        [45, 85, 64, 45, 63, 78, 45],\n",
        "#        [16, 75, 96, 42]]"
      ]
    },
    {
      "cell_type": "code",
      "execution_count": null,
      "metadata": {
        "id": "r0iHF_p9emq-"
      },
      "outputs": [],
      "source": []
    },
    {
      "cell_type": "code",
      "execution_count": null,
      "metadata": {
        "id": "zLarhe_Oemq-"
      },
      "outputs": [],
      "source": []
    }
  ],
  "metadata": {
    "colab": {
      "collapsed_sections": [],
      "name": "Sentiment_Analysis.ipynb",
      "provenance": []
    },
    "gpuClass": "standard",
    "kernelspec": {
      "display_name": "Python 3.9.12 ('base')",
      "language": "python",
      "name": "python3"
    },
    "language_info": {
      "codemirror_mode": {
        "name": "ipython",
        "version": 3
      },
      "file_extension": ".py",
      "mimetype": "text/x-python",
      "name": "python",
      "nbconvert_exporter": "python",
      "pygments_lexer": "ipython3",
      "version": "3.9.12"
    },
    "vscode": {
      "interpreter": {
        "hash": "88279d2366fe020547cde40dd65aa0e3aa662a6ec1f3ca12d88834876c85e1a6"
      }
    }
  },
  "nbformat": 4,
  "nbformat_minor": 0
}
