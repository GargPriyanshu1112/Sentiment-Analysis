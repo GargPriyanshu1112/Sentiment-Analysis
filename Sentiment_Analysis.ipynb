{
  "cells": [
    {
      "cell_type": "code",
      "execution_count": 3,
      "metadata": {
        "colab": {
          "base_uri": "https://localhost:8080/"
        },
        "id": "B78bJL70x7fm",
        "outputId": "d7bafef5-6e6b-4828-9944-a2540299815b"
      },
      "outputs": [
        {
          "name": "stderr",
          "output_type": "stream",
          "text": [
            "'wget' is not recognized as an internal or external command,\n",
            "operable program or batch file.\n"
          ]
        }
      ],
      "source": [
        "!wget https://raw.githubusercontent.com/soni-ratnesh/Sentiment-Analysis-RNN/master/data/reviews.txt"
      ]
    },
    {
      "cell_type": "code",
      "execution_count": 4,
      "metadata": {
        "colab": {
          "base_uri": "https://localhost:8080/"
        },
        "id": "oFrTAwjIyDwk",
        "outputId": "07ce38b3-a215-4591-af60-a9393dd9f0c7"
      },
      "outputs": [
        {
          "name": "stderr",
          "output_type": "stream",
          "text": [
            "'wget' is not recognized as an internal or external command,\n",
            "operable program or batch file.\n"
          ]
        }
      ],
      "source": [
        "!wget https://raw.githubusercontent.com/soni-ratnesh/Sentiment-Analysis-RNN/master/data/labels.txt "
      ]
    },
    {
      "cell_type": "markdown",
      "metadata": {
        "id": "pq7koqdRv_ul"
      },
      "source": [
        "# Import Dependencies"
      ]
    },
    {
      "cell_type": "code",
      "execution_count": 5,
      "metadata": {
        "id": "6Uy5XVe81IVP"
      },
      "outputs": [],
      "source": [
        "from string import punctuation\n",
        "from collections import Counter\n",
        "import numpy as np\n",
        "import pandas as pd\n",
        "import random"
      ]
    },
    {
      "cell_type": "markdown",
      "metadata": {
        "id": "T7NK8kg-tpi1"
      },
      "source": [
        "# Load in the Data"
      ]
    },
    {
      "cell_type": "code",
      "execution_count": 6,
      "metadata": {
        "id": "V8pfPkdzwaUY"
      },
      "outputs": [],
      "source": [
        "# Read data from text files\n",
        "with open(\"reviews.txt\") as f:\n",
        "  reviews = f.read()\n",
        "\n",
        "with open(\"labels.txt\") as f:\n",
        "  labels = f.read()"
      ]
    },
    {
      "cell_type": "markdown",
      "metadata": {
        "id": "V0_891cswaR1"
      },
      "source": [
        "# Data Exploration"
      ]
    },
    {
      "cell_type": "code",
      "execution_count": 7,
      "metadata": {
        "colab": {
          "base_uri": "https://localhost:8080/",
          "height": 125
        },
        "id": "3hDswTlHwaN2",
        "outputId": "aff4c09e-5061-42d5-c006-605818a95de4"
      },
      "outputs": [
        {
          "data": {
            "text/plain": [
              "'bromwell high is a cartoon comedy . it ran at the same time as some other programs about school life  such as  teachers  . my   years in the teaching profession lead me to believe that bromwell high  s satire is much closer to reality than is  teachers  . the scramble to survive financially  the insightful students who can see right through their pathetic teachers  pomp  the pettiness of the whole situation  all remind me of the schools i knew and their students . when i saw the episode in which a student repeatedly tried to burn down the school  i immediately recalled . . . . . . . . . at . . . . . . . . . . high . a classic line inspector i  m here to sack one of your teachers . student welcome to bromwell high . i expect that many adults of my age think that bromwell high is far fetched . what a pity that it isn  t   \\nstory of a man who has unnatural feelings for a pig . starts out with a opening scene that is a terrific example of absurd comedy . a formal orchestra audience is turn'"
            ]
          },
          "execution_count": 7,
          "metadata": {},
          "output_type": "execute_result"
        }
      ],
      "source": [
        "reviews[: 1000]"
      ]
    },
    {
      "cell_type": "code",
      "execution_count": 8,
      "metadata": {
        "colab": {
          "base_uri": "https://localhost:8080/"
        },
        "id": "nftXoEDa1PiV",
        "outputId": "b5aea579-4751-4f69-b5bc-4d9443bee38c"
      },
      "outputs": [
        {
          "data": {
            "text/plain": [
              "{'\\n',\n",
              " ' ',\n",
              " '.',\n",
              " 'a',\n",
              " 'b',\n",
              " 'c',\n",
              " 'd',\n",
              " 'e',\n",
              " 'f',\n",
              " 'g',\n",
              " 'h',\n",
              " 'i',\n",
              " 'j',\n",
              " 'k',\n",
              " 'l',\n",
              " 'm',\n",
              " 'n',\n",
              " 'o',\n",
              " 'p',\n",
              " 'q',\n",
              " 'r',\n",
              " 's',\n",
              " 't',\n",
              " 'u',\n",
              " 'v',\n",
              " 'w',\n",
              " 'x',\n",
              " 'y',\n",
              " 'z'}"
            ]
          },
          "execution_count": 8,
          "metadata": {},
          "output_type": "execute_result"
        }
      ],
      "source": [
        "# Characters present in reviews \n",
        "set(reviews)"
      ]
    },
    {
      "cell_type": "code",
      "execution_count": 9,
      "metadata": {
        "colab": {
          "base_uri": "https://localhost:8080/",
          "height": 125
        },
        "id": "yCAzcUAW7yiH",
        "outputId": "71d45c61-9769-42c5-bcdc-0c733cbe0ce6"
      },
      "outputs": [
        {
          "data": {
            "text/plain": [
              "'positive\\nnegative\\npositive\\nnegative\\npositive\\nnegative\\npositive\\nnegative\\npositive\\nnegative\\npositive\\nnegative\\npositive\\nnegative\\npositive\\nnegative\\npositive\\nnegative\\npositive\\nnegative\\npositive\\nnegative\\npositive\\nnegative\\npositive\\nnegative\\npositive\\nnegative\\npositive\\nnegative\\npositive\\nnegative\\npositive\\nnegative\\npositive\\nnegative\\npositive\\nnegative\\npositive\\nnegative\\npositive\\nnegative\\npositive\\nnegative\\npositive\\nnegative\\npositive\\nnegative\\npositive\\nnegative\\npositive\\nnegative\\npositive\\nnegative\\npositive\\nnegative\\npositive\\nnegative\\npositive\\nnegative\\npositive\\nnegative\\npositive\\nnegative\\npositive\\nnegative\\npositive\\nnegative\\npositive\\nnegative\\npositive\\nnegative\\npositive\\nnegative\\npositive\\nnegative\\npositive\\nnegative\\npositive\\nnegative\\npositive\\nnegative\\npositive\\nnegative\\npositive\\nnegative\\npositive\\nnegative\\npositive\\nnegative\\npositive\\nnegative\\npositive\\nnegative\\npositive\\nnegative\\npositive\\nnegative\\npositive\\nnegative\\npositive\\nnegative\\npositive\\nnegative\\npositive\\nnegative\\npositive\\nnegative\\npositive\\nnegative\\npositive\\nn'"
            ]
          },
          "execution_count": 9,
          "metadata": {},
          "output_type": "execute_result"
        }
      ],
      "source": [
        "labels[: 1000]"
      ]
    },
    {
      "cell_type": "markdown",
      "metadata": {
        "id": "F-PY6P12wh8q"
      },
      "source": [
        "# Data Preprocessing"
      ]
    },
    {
      "cell_type": "code",
      "execution_count": 10,
      "metadata": {
        "colab": {
          "base_uri": "https://localhost:8080/",
          "height": 125
        },
        "id": "av2vrKZ2FBYs",
        "outputId": "3859fdf9-36cf-41c1-a5cf-223383b36aca"
      },
      "outputs": [
        {
          "data": {
            "text/plain": [
              "'bromwell high is a cartoon comedy  it ran at the same time as some other programs about school life  such as  teachers   my   years in the teaching profession lead me to believe that bromwell high  s satire is much closer to reality than is  teachers   the scramble to survive financially  the insightful students who can see right through their pathetic teachers  pomp  the pettiness of the whole situation  all remind me of the schools i knew and their students  when i saw the episode in which a student repeatedly tried to burn down the school  i immediately recalled          at           high  a classic line inspector i  m here to sack one of your teachers  student welcome to bromwell high  i expect that many adults of my age think that bromwell high is far fetched  what a pity that it isn  t    story of a man who has unnatural feelings for a pig  starts out with a opening scene that is a terrific example of absurd comedy  a formal orchestra audience is turned into an insane  violent mob by the crazy chantings of it  s singers  unfortunately it stays absurd the whole time with no general narrative eventually making it just too off putting  even those from the era should be turned off  the cryptic dialogue would make shakespeare seem easy to a third grader  on a technical level it  s better than you might think with some good cinematography by future great vilmos zsigmond  future stars sally kirkland and frederic forrest can be seen briefly    homelessness  or houselessness as george carlin stated  has been an issue for years but never a plan to help those on the street that were once considered human who did everything from going to school  work  or vote for the matter  most people think of the homeless as just a lost cause while worrying about things such as racism  the war on iraq  pressuring kids to succeed  technology  the elections  inflation  or worrying if they  ll be next to end up on the streets   br    br   but what if you were given a bet to live on the streets for a month without the luxuries you once had from a home  the entertainment sets  a bathroom  pictures on the wall  a computer  and everything you once treasure to see what it  s like to be homeless  that is goddard bolt  s lesson   br    br   mel brooks  who directs  who stars as bolt plays a rich man who has everything in the world until deciding to make a bet with a sissy rival  jeffery tambor  to see if he can live in the streets for thirty days without the luxuries if bolt succeeds  he can do what he wants with a future project of making more buildings  the bet  s on where bolt is thrown on the street with a bracelet on his leg to monitor his every move where he can  t step off the sidewalk  he  s given the nickname pepto by a vagrant after it  s written on his forehead where bolt meets other characters including a woman by the name of molly  lesley ann warren  an ex  dancer who got divorce before losing her home  and her pals sailor  howard morris  and fumes  teddy wilson  who are already used to the streets  they  re survivors  bolt isn  t  he  s not used to reaching mutual agreements like he once did when being rich where it  s fight or flight  kill or be killed   br    br   while the love connection between molly and bolt wasn  t necessary to plot  i found  life stinks  to be one of mel brooks  observant films where prior to being a comedy  it shows a tender side compared to his slapstick work such as blazing saddles  young frankenstein  or spaceballs for the matter  to show what it  s like having something valuable before losing it the next day or on the other hand making a stupid bet like all rich people do when they don  t know what to do with their money  maybe they should give it to the homeless instead of using it like monopoly money   br    br   or maybe this film will inspire you to help others    airport    starts as a brand new luxury    plane is loaded up with valuable paintings  such belonging to rich businessman philip stevens  james stewart  who is flying them  a bunch of vip  s to his estate in preparation of it being opened to the public as a museum  also on board is stevens daughter julie  kathleen quinlan   her son  the luxury jetliner takes off as planned but mid  air the plane is hi  jacked by the co  pilot chambers  robert foxworth   his two accomplice  s banker  monte markham   wilson  michael pataki  who knock the passengers  crew out with sleeping gas  they plan to steal the valuable cargo  land on a disused plane strip on an isolated island but while making his descent chambers almost hits an oil rig in the ocean  loses control of the plane sending it crashing into the sea where it sinks to the bottom right bang in the middle of the bermuda triangle  with air in short supply  water leaking in  having flown over    miles off course the problems mount for the survivor  s as they await help with time fast running out     br    br   also known under the slightly different tile airport     this second sequel to'"
            ]
          },
          "execution_count": 10,
          "metadata": {},
          "output_type": "execute_result"
        }
      ],
      "source": [
        "# Convert alphabets to lowercase\n",
        "text = reviews.lower()\n",
        "\n",
        "# Remove the punctuations\n",
        "text = ''.join([char  for char in text  if char not in punctuation])\n",
        "\n",
        "# Remove '\\n' character\n",
        "reviews_split = text.split('\\n') # List of reviews\n",
        "text = ' '.join(reviews_split)\n",
        "\n",
        "text[: 5000]"
      ]
    },
    {
      "cell_type": "code",
      "execution_count": 11,
      "metadata": {
        "colab": {
          "base_uri": "https://localhost:8080/"
        },
        "id": "xar34Or4cV1e",
        "outputId": "aa8d840e-ad4c-4ef1-8a8a-284f597a489a"
      },
      "outputs": [
        {
          "data": {
            "text/plain": [
              "['positive',\n",
              " 'negative',\n",
              " 'positive',\n",
              " 'negative',\n",
              " 'positive',\n",
              " 'negative',\n",
              " 'positive',\n",
              " 'negative',\n",
              " 'positive',\n",
              " 'negative']"
            ]
          },
          "execution_count": 11,
          "metadata": {},
          "output_type": "execute_result"
        }
      ],
      "source": [
        "labels = labels.split()\n",
        "labels[: 10]"
      ]
    },
    {
      "cell_type": "code",
      "execution_count": 12,
      "metadata": {
        "colab": {
          "base_uri": "https://localhost:8080/"
        },
        "id": "zVmO14LWVMbO",
        "outputId": "4b2a7b09-a525-4379-c366-cfc14c38a9df"
      },
      "outputs": [
        {
          "name": "stdout",
          "output_type": "stream",
          "text": [
            "Zero-length reviews: 1\n"
          ]
        }
      ],
      "source": [
        "# Check if zero-length reviews are present\n",
        "review_lengths = Counter(len(review)  for review in reviews_split)\n",
        "print(f\"Zero-length reviews: {review_lengths[0]}\")"
      ]
    },
    {
      "cell_type": "code",
      "execution_count": 13,
      "metadata": {
        "id": "21XIlRHtWzZp"
      },
      "outputs": [],
      "source": [
        "# Get index of reviews having non-zero length\n",
        "non_zero_idxs = [idx  for idx, review in enumerate(reviews_split)  if len(review)!=0]\n",
        "\n",
        "# Remove zero-length reviews and their corresponding labels\n",
        "reviews_split = [reviews_split[idx]  for idx in non_zero_idxs]\n",
        "labels = [labels[idx]  for idx in non_zero_idxs]"
      ]
    },
    {
      "cell_type": "code",
      "execution_count": 14,
      "metadata": {
        "colab": {
          "base_uri": "https://localhost:8080/"
        },
        "id": "Pqp1qZse6R3E",
        "outputId": "831f1e52-60d2-46ea-bf97-5090680b7f11"
      },
      "outputs": [
        {
          "name": "stdout",
          "output_type": "stream",
          "text": [
            "No. of reviews: 25000\n",
            "No. of labels : 25000\n"
          ]
        }
      ],
      "source": [
        "print(f\"No. of reviews: {len(reviews_split)}\")\n",
        "print(f\"No. of labels : {len(labels)}\")"
      ]
    },
    {
      "cell_type": "code",
      "execution_count": 15,
      "metadata": {
        "colab": {
          "base_uri": "https://localhost:8080/"
        },
        "id": "As78k33QAB4_",
        "outputId": "084c2439-7fc6-480f-cc67-7e56b49b875d"
      },
      "outputs": [
        {
          "name": "stdout",
          "output_type": "stream",
          "text": [
            "['bromwell', 'high', 'is', 'a', 'cartoon', 'comedy', 'it', 'ran', 'at', 'the', 'same', 'time', 'as', 'some', 'other']\n",
            "\n",
            "There are 6020196 words in reviews.\n"
          ]
        }
      ],
      "source": [
        "# Get a list of words used in reviews\n",
        "words = text.split()\n",
        "print(words[: 15])\n",
        "print(f\"\\nThere are {len(words)} words in reviews.\")"
      ]
    },
    {
      "cell_type": "code",
      "execution_count": 16,
      "metadata": {
        "colab": {
          "base_uri": "https://localhost:8080/"
        },
        "id": "wO_YoFSYKmsV",
        "outputId": "9ffd232e-8f20-4ccd-af01-8e20a3237d99"
      },
      "outputs": [
        {
          "name": "stdout",
          "output_type": "stream",
          "text": [
            "There are 74072 words in the vocabulary.\n"
          ]
        }
      ],
      "source": [
        "# Get vocabulary\n",
        "vocabulary = set(words)\n",
        "print(f\"There are {len(vocabulary)} words in the vocabulary.\")"
      ]
    },
    {
      "cell_type": "markdown",
      "metadata": {
        "id": "BNNTIyOmeWGn"
      },
      "source": [
        "### Create Dictionary\n",
        "\n",
        "\n",
        "The embedding lookup requires that we pass in integers to our network. The easiest way to do this is to create dictionaries that map the words in the vocabulary to integers. Then we can convert each of our reviews into integers so they can be passed into the network.\n",
        "\n",
        "    Now you're going to encode the words with integers. Build a dictionary that maps words to integers. Later we're going to pad our input vectors with zeros, so make sure the integers start at 1, not 0. Also, convert the reviews to integers and store the reviews in a new list called reviews_ints.\n"
      ]
    },
    {
      "cell_type": "code",
      "execution_count": 17,
      "metadata": {
        "colab": {
          "base_uri": "https://localhost:8080/"
        },
        "id": "a_tiHRzXyWlI",
        "outputId": "8c9e13b7-a5ae-437c-b663-68afb137c2cd"
      },
      "outputs": [
        {
          "data": {
            "text/plain": [
              "{'honostly': 1,\n",
              " 'hallier': 2,\n",
              " 'hamburglar': 3,\n",
              " 'teachers': 4,\n",
              " 'robber': 5,\n",
              " 'inactivity': 6,\n",
              " 'reeking': 7,\n",
              " 'jay': 8,\n",
              " 'downplaying': 9,\n",
              " 'suxz': 10}"
            ]
          },
          "execution_count": 17,
          "metadata": {},
          "output_type": "execute_result"
        }
      ],
      "source": [
        "# Encode the words to integers\n",
        "# The integers start from 1 (and not 0) as we'll pad our input vectors with zeros later\n",
        "vocab_to_int = {word: idx  for idx, word in enumerate(vocabulary, 1)}\n",
        "\n",
        "\n",
        "dict(list(vocab_to_int.items())[:10])"
      ]
    },
    {
      "cell_type": "code",
      "execution_count": 18,
      "metadata": {
        "id": "OoFBbms0Odri"
      },
      "outputs": [],
      "source": [
        "# int_vocab = dict(enumerate(unique_words))\n",
        "\n",
        "# dict(list(int_vocab.items())[:10])"
      ]
    },
    {
      "cell_type": "markdown",
      "metadata": {
        "id": "qqUAEPUhRrgk"
      },
      "source": [
        "### Tokenize Reviews"
      ]
    },
    {
      "cell_type": "code",
      "execution_count": 19,
      "metadata": {
        "id": "-hCBm_uRSeSs"
      },
      "outputs": [],
      "source": [
        "reviews_int = [] # Will store tokenized reviews\n",
        "\n",
        "# Tokenize each review\n",
        "for review in reviews_split:\n",
        "  reviews_int.append([vocab_to_int[word]  for word in review.split()])"
      ]
    },
    {
      "cell_type": "code",
      "execution_count": 20,
      "metadata": {
        "colab": {
          "base_uri": "https://localhost:8080/"
        },
        "id": "NEEqBATa5Szf",
        "outputId": "671b3a3b-a902-44c2-9970-6b35183e34c5"
      },
      "outputs": [
        {
          "name": "stdout",
          "output_type": "stream",
          "text": [
            "REVIEW:\n",
            "   recently shown on cable tv the movie opens with a disclaimer distancing itself from any co  operation of real life persons that in itself is an eye catcher  yet the script and acting from the main characters is superb and i found myself engrossed throughout  due in no small way to the crisp  thoughtful and interesting dialogue  the film is about a meeting on one day between two real life musical  legends  who formerly composed together then seperated  the film captures the essence of their lives and philosophies  in a story which proffers an explanation for their initial  split   what is so impressive is that the actors give such seemingly realistic portrayals of the characters they play  faults and all  that this viewer at least was left believing i was witnessing a true event in almost every detail  the great skill of this play is that with astute writing and fine acting a movie basically about  two of us  talking can make an excellent picture  worthy of at least an  out of     \n",
            "\n",
            "   No. of words in the review: 172\n",
            "\n",
            "--------------------\n",
            "\n",
            "TOKENIZED VERSION:\n",
            "   [1357, 45103, 11579, 65980, 31354, 58855, 28797, 29391, 3771, 37534, 47569, 67688, 69279, 58039, 19802, 17402, 19484, 50770, 754, 46689, 25197, 20042, 71345, 69279, 68126, 57504, 64627, 72386, 10702, 58855, 38771, 23, 12916, 58039, 58855, 72318, 44351, 68126, 71989, 23, 49125, 54099, 21852, 55298, 23556, 71168, 71345, 7394, 5961, 307, 43753, 58855, 36480, 27083, 23, 47141, 67047, 58855, 55188, 68126, 9507, 37534, 32024, 11579, 16860, 72116, 48888, 257, 754, 46689, 2376, 21972, 70955, 35074, 56823, 48720, 30358, 39522, 58855, 55188, 32712, 58855, 37854, 50770, 26909, 16831, 23, 3844, 71345, 37534, 58174, 3067, 43963, 57504, 63628, 7486, 26909, 36941, 50846, 52041, 68126, 6131, 20540, 68126, 20042, 58855, 66739, 38792, 14629, 40818, 33611, 28593, 50770, 58855, 44351, 23662, 34526, 71206, 23, 47885, 20042, 6609, 52132, 30630, 62526, 43465, 18674, 27602, 49125, 43465, 32928, 37534, 40121, 55687, 71345, 57885, 65493, 50405, 58855, 22162, 68198, 50770, 6609, 34526, 68126, 20042, 3771, 68223, 11732, 23, 40493, 12916, 37534, 28797, 73230, 9507, 257, 50770, 15719, 17760, 7134, 43614, 57504, 36784, 71375, 64947, 50770, 30630, 62526, 57504, 18476, 50770]\n",
            "\n",
            "   No. of tokens in the tokenized version: 172\n"
          ]
        }
      ],
      "source": [
        "rand_idx = random.randint(0, len(reviews_split))\n",
        "\n",
        "print(f\"REVIEW:\\n   {reviews_split[rand_idx]}\\n\")\n",
        "print(f\"   No. of words in the review: {len(reviews_split[rand_idx].split())}\\n\")\n",
        "\n",
        "print(\"-\" * 20)\n",
        "\n",
        "print(f\"\\nTOKENIZED VERSION:\\n   {reviews_int[rand_idx]}\\n\")\n",
        "print(f\"   No. of tokens in the tokenized version: {len(reviews_int[rand_idx])}\")\n"
      ]
    },
    {
      "cell_type": "markdown",
      "metadata": {
        "id": "thGTreQR874O"
      },
      "source": [
        "### Encode Labels"
      ]
    },
    {
      "cell_type": "code",
      "execution_count": 21,
      "metadata": {
        "colab": {
          "base_uri": "https://localhost:8080/"
        },
        "id": "M3cW2g1j8_Xj",
        "outputId": "6997e903-7546-4c71-fd3d-8f10cbc97093"
      },
      "outputs": [
        {
          "name": "stdout",
          "output_type": "stream",
          "text": [
            "No. of labels: 25000\n",
            "[1 0 1 0 1 0 1 0 1 0 1 0 1 0 1 0 1 0 1 0]\n"
          ]
        }
      ],
      "source": [
        "encoded_labels = np.array([1 if label==\"positive\" else 0  for label in labels])\n",
        "print(f\"No. of labels: {len(encoded_labels)}\")\n",
        "print(encoded_labels[:20])"
      ]
    },
    {
      "cell_type": "code",
      "execution_count": 22,
      "metadata": {
        "colab": {
          "base_uri": "https://localhost:8080/"
        },
        "id": "UGfH6HUQTcGq",
        "outputId": "78121cc2-79a3-4bc1-9bda-ff2e7d59dfb1"
      },
      "outputs": [
        {
          "name": "stdout",
          "output_type": "stream",
          "text": [
            "The length of the longest review is 2514.\n",
            "The average length of reviews is 240.81\n"
          ]
        }
      ],
      "source": [
        "# Get length of the longest review\n",
        "max_len = max(len(review)  for review in reviews_int)\n",
        "\n",
        "# Get the average length of reviews\n",
        "avg_len = sum([len(review)  for review in reviews_int]) / len(reviews_int)\n",
        "\n",
        "print(f\"The length of the longest review is {max_len}.\")\n",
        "print(f\"The average length of reviews is {avg_len:.2f}\")"
      ]
    },
    {
      "cell_type": "code",
      "execution_count": 23,
      "metadata": {
        "id": "9le0fC2eVgnE"
      },
      "outputs": [],
      "source": [
        "def pad_reviews_with_zeros(reviews_int, seq_len):\n",
        "  features = np.zeros((len(reviews_int), seq_len), dtype=np.int32)\n",
        "\n",
        "  for idx, review in enumerate(reviews_int):\n",
        "    features[idx][-len(review):] = np.array(review)[:seq_len] \n",
        "\n",
        "  return features"
      ]
    },
    {
      "cell_type": "code",
      "execution_count": 24,
      "metadata": {
        "colab": {
          "base_uri": "https://localhost:8080/"
        },
        "id": "dSk7-76XI13v",
        "outputId": "9cac5747-7d64-439a-fb89-dfeb39879f1d"
      },
      "outputs": [
        {
          "data": {
            "text/plain": [
              "array([[    0,     0,     0, ..., 64387, 11507, 43404],\n",
              "       [    0,     0,     0, ..., 67069,  4817, 44175],\n",
              "       [    0,     0,     0, ..., 43753, 67461, 67383],\n",
              "       ...,\n",
              "       [    0,     0,     0, ...,  6764, 67433,  6321],\n",
              "       [    0,     0,     0, ...,  3181,   307, 58039],\n",
              "       [    0,     0,     0, ...,  6609, 68126, 22189]])"
            ]
          },
          "execution_count": 24,
          "metadata": {},
          "output_type": "execute_result"
        }
      ],
      "source": [
        "features = pad_reviews_with_zeros(reviews_int, seq_len=512)\n",
        "features"
      ]
    },
    {
      "cell_type": "code",
      "execution_count": 25,
      "metadata": {
        "colab": {
          "base_uri": "https://localhost:8080/"
        },
        "id": "FPsjLLJJSFbA",
        "outputId": "d81ae523-4a00-4670-f939-b216789b88d2"
      },
      "outputs": [
        {
          "data": {
            "text/plain": [
              "numpy.ndarray"
            ]
          },
          "execution_count": 25,
          "metadata": {},
          "output_type": "execute_result"
        }
      ],
      "source": [
        "type(encoded_labels)"
      ]
    },
    {
      "cell_type": "code",
      "execution_count": 26,
      "metadata": {
        "colab": {
          "base_uri": "https://localhost:8080/"
        },
        "id": "X9bw_RmMSevT",
        "outputId": "c6c308ae-bf9f-4877-bdd5-48de6448b79e"
      },
      "outputs": [
        {
          "data": {
            "text/plain": [
              "((25000, 512), (25000,))"
            ]
          },
          "execution_count": 26,
          "metadata": {},
          "output_type": "execute_result"
        }
      ],
      "source": [
        "features.shape, encoded_labels.shape"
      ]
    },
    {
      "cell_type": "code",
      "execution_count": null,
      "metadata": {
        "id": "J-lUKE-XQp1U"
      },
      "outputs": [],
      "source": []
    },
    {
      "cell_type": "code",
      "execution_count": null,
      "metadata": {
        "id": "RnvjX9IYBecS"
      },
      "outputs": [],
      "source": []
    },
    {
      "cell_type": "code",
      "execution_count": null,
      "metadata": {
        "id": "JUanGZpWBeZw"
      },
      "outputs": [],
      "source": []
    },
    {
      "cell_type": "code",
      "execution_count": 27,
      "metadata": {
        "id": "ZNxXIJX67lvz"
      },
      "outputs": [],
      "source": [
        "import tensorflow as tf"
      ]
    },
    {
      "cell_type": "code",
      "execution_count": 28,
      "metadata": {
        "id": "qF01wHaz7ltV"
      },
      "outputs": [],
      "source": [
        "from sklearn.model_selection import train_test_split"
      ]
    },
    {
      "cell_type": "code",
      "execution_count": 29,
      "metadata": {
        "colab": {
          "base_uri": "https://localhost:8080/"
        },
        "id": "goEMMwex7r-v",
        "outputId": "4dbb350c-2792-4258-cf24-552141554edc"
      },
      "outputs": [
        {
          "name": "stdout",
          "output_type": "stream",
          "text": [
            "\n",
            "X_train shape: (20000, 512)\n",
            "y_train shape: (20000,)\n",
            "X_test shape : (5000, 512)\n",
            "y_test shape : (5000,)\n"
          ]
        }
      ],
      "source": [
        "X_train, X_test, y_train, y_test = train_test_split(features, encoded_labels,\n",
        "                                                    test_size=0.2,\n",
        "                                                    shuffle=True)\n",
        "\n",
        "\n",
        "print(f\"\"\"\n",
        "X_train shape: {X_train.shape}\n",
        "y_train shape: {y_train.shape}\n",
        "X_test shape : {X_test.shape}\n",
        "y_test shape : {y_test.shape}\"\"\")"
      ]
    },
    {
      "cell_type": "code",
      "execution_count": 30,
      "metadata": {
        "colab": {
          "base_uri": "https://localhost:8080/"
        },
        "id": "bq18M2yf7lnx",
        "outputId": "a474dd85-3009-4030-fd4f-a6b74a141273"
      },
      "outputs": [
        {
          "name": "stdout",
          "output_type": "stream",
          "text": [
            "44 57\n"
          ]
        }
      ],
      "source": [
        "one, zero = 1, 0\n",
        "\n",
        "for  i in y_train[:100]:\n",
        "  if i == 1:\n",
        "    one = one+1\n",
        "  else:\n",
        "    zero = zero+1\n",
        "\n",
        "print(one,zero)"
      ]
    },
    {
      "cell_type": "code",
      "execution_count": 31,
      "metadata": {
        "colab": {
          "base_uri": "https://localhost:8080/"
        },
        "id": "bUtHiGkX8jyU",
        "outputId": "e7adbc55-a9a9-4cef-87d0-fba587220e30"
      },
      "outputs": [
        {
          "data": {
            "text/plain": [
              "array([1, 1, 0, 1, 1, 0, 1, 1, 0, 0, 0, 0, 1, 1, 0, 0, 0, 1, 0, 0])"
            ]
          },
          "execution_count": 31,
          "metadata": {},
          "output_type": "execute_result"
        }
      ],
      "source": [
        "y_test[:20]"
      ]
    },
    {
      "cell_type": "markdown",
      "metadata": {
        "id": "WA8lhhlb8jvU"
      },
      "source": [
        "### Generate Datasets"
      ]
    },
    {
      "cell_type": "code",
      "execution_count": 32,
      "metadata": {
        "id": "CQ44OjWj8jsG"
      },
      "outputs": [],
      "source": [
        "def get_training_dataset(X_train, y_train, batch_size=32):\n",
        "  train_dataset = tf.data.Dataset.from_tensor_slices((X_train, y_train))\n",
        "  train_dataset = train_dataset.shuffle(buffer_size=len(X_train), reshuffle_each_iteration=True)\n",
        "  train_dataset = train_dataset.batch(batch_size)\n",
        "  train_dataset = train_dataset.prefetch(buffer_size=tf.data.AUTOTUNE)\n",
        "\n",
        "  return train_dataset"
      ]
    },
    {
      "cell_type": "code",
      "execution_count": 33,
      "metadata": {
        "id": "sc2CtwDT7llV"
      },
      "outputs": [],
      "source": [
        "def get_validation_dataset(X_test, y_test, batch_size=32):\n",
        "  validation_dataset = tf.data.Dataset.from_tensor_slices((X_train, y_train))\n",
        "  validation_dataset = validation_dataset.batch(batch_size)\n",
        "\n",
        "  return validation_dataset"
      ]
    },
    {
      "cell_type": "code",
      "execution_count": 34,
      "metadata": {
        "id": "RBjV7Mr4AZj4"
      },
      "outputs": [],
      "source": [
        "# Get training dataset\n",
        "train_dataset = get_training_dataset(X_train, y_train, batch_size=32)\n",
        "\n",
        "# Get validaton dataset\n",
        "validation_dataset = get_validation_dataset(X_test, y_test, batch_size=32)"
      ]
    },
    {
      "cell_type": "code",
      "execution_count": 35,
      "metadata": {
        "colab": {
          "base_uri": "https://localhost:8080/"
        },
        "id": "DLcWk3fEAZeq",
        "outputId": "b6588698-1d23-4262-fb81-f123de12efa8"
      },
      "outputs": [
        {
          "name": "stdout",
          "output_type": "stream",
          "text": [
            "Input shape: (32, 512)\n",
            "Input: \n",
            "[[    0     0     0 ... 61043 40745 64387]\n",
            " [    0     0     0 ...  4090  6609 55188]\n",
            " [    0     0     0 ... 30072 44946 42363]\n",
            " ...\n",
            " [    0     0     0 ...  7486 10625 45155]\n",
            " [    0     0     0 ... 50770 64387 47885]\n",
            " [    0     0     0 ... 69667 61038 21008]]\n",
            "\n",
            "\n",
            "Label shape: (32,)\n",
            "Label: \n",
            "[1 0 0 0 0 1 0 1 1 1 0 0 0 0 1 1 0 0 1 0 1 1 0 1 1 0 1 0 1 1 0 1]\n"
          ]
        }
      ],
      "source": [
        "# Get sample training dataset\n",
        "sample_x, sample_y = train_dataset.as_numpy_iterator().next()\n",
        "\n",
        "print(f'Input shape: {sample_x.shape}') \n",
        "print(f'Input: \\n{sample_x}')\n",
        "print(\"\\n\")\n",
        "print(f'Label shape: {sample_y.shape}') \n",
        "print(f'Label: \\n{sample_y}')"
      ]
    },
    {
      "cell_type": "code",
      "execution_count": 43,
      "metadata": {
        "id": "fTUhRU1lG-Eu"
      },
      "outputs": [],
      "source": [
        "# from tensorflow.keras.layers import Embedding\n",
        "# embedding = Embedding()\n",
        "\n",
        "\n",
        "# # MAX_VOCAB_LENGTH = 10000 # max number of words to have in our vocabulary\n",
        "# # MAX_LENGTH = 15 # max length our sequences will be\n",
        "\n",
        "# embedding = tf.keras.layers.Embedding(input_dim=len(vocab_int)+1, # adding 1 to fit Keras embedding (requirement)\n",
        "#                                       output_dim=512, \n",
        "#                                       embeddings_initializer=\"uniform\",\n",
        "#                                       input_length=2046) # length of the padded sequence\n",
        "\n",
        "\n",
        "from tensorflow.keras import layers\n",
        "\n",
        "embedding = layers.Embedding(input_dim=(len(vocab_to_int)),\n",
        "                             output_dim=50,\n",
        "                             embeddings_initializer=\"uniform\",\n",
        "                             input_length=2046)"
      ]
    },
    {
      "cell_type": "code",
      "execution_count": 44,
      "metadata": {
        "id": "46ZSuoySG-CQ"
      },
      "outputs": [
        {
          "data": {
            "text/plain": [
              "<tf.Tensor: shape=(512, 50), dtype=float32, numpy=\n",
              "array([[-0.00213534,  0.04891384, -0.00414396, ...,  0.04368666,\n",
              "         0.04260508, -0.02575293],\n",
              "       [-0.00213534,  0.04891384, -0.00414396, ...,  0.04368666,\n",
              "         0.04260508, -0.02575293],\n",
              "       [-0.00213534,  0.04891384, -0.00414396, ...,  0.04368666,\n",
              "         0.04260508, -0.02575293],\n",
              "       ...,\n",
              "       [-0.03488366,  0.01446364,  0.04339284, ..., -0.04247081,\n",
              "         0.04138663, -0.0171083 ],\n",
              "       [-0.0154518 , -0.02630123,  0.04614926, ...,  0.04892632,\n",
              "        -0.02031949,  0.02675143],\n",
              "       [ 0.04913988,  0.0027313 ,  0.02383209, ..., -0.00965338,\n",
              "         0.02303442, -0.01759497]], dtype=float32)>"
            ]
          },
          "execution_count": 44,
          "metadata": {},
          "output_type": "execute_result"
        }
      ],
      "source": [
        "embedding(features[0])"
      ]
    },
    {
      "cell_type": "code",
      "execution_count": null,
      "metadata": {
        "id": "61aaOXbEG9_c"
      },
      "outputs": [],
      "source": []
    },
    {
      "cell_type": "code",
      "execution_count": 36,
      "metadata": {
        "id": "AiwKC6MYQpn5"
      },
      "outputs": [],
      "source": [
        "# rev = [[12, 13, 15],\n",
        "#        [45, 85, 64, 45, 63, 78, 45],\n",
        "#        [16, 75, 96, 42]]"
      ]
    }
  ],
  "metadata": {
    "colab": {
      "collapsed_sections": [],
      "name": "Sentiment_Analysis.ipynb",
      "provenance": []
    },
    "gpuClass": "standard",
    "kernelspec": {
      "display_name": "Python 3.9.12 ('base')",
      "language": "python",
      "name": "python3"
    },
    "language_info": {
      "codemirror_mode": {
        "name": "ipython",
        "version": 3
      },
      "file_extension": ".py",
      "mimetype": "text/x-python",
      "name": "python",
      "nbconvert_exporter": "python",
      "pygments_lexer": "ipython3",
      "version": "3.9.12"
    },
    "vscode": {
      "interpreter": {
        "hash": "88279d2366fe020547cde40dd65aa0e3aa662a6ec1f3ca12d88834876c85e1a6"
      }
    }
  },
  "nbformat": 4,
  "nbformat_minor": 0
}
