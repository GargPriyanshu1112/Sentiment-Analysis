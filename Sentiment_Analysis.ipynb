{
  "nbformat": 4,
  "nbformat_minor": 0,
  "metadata": {
    "colab": {
      "name": "Sentiment_Analysis.ipynb",
      "provenance": [],
      "collapsed_sections": []
    },
    "kernelspec": {
      "name": "python3",
      "display_name": "Python 3"
    },
    "language_info": {
      "name": "python"
    },
    "gpuClass": "standard"
  },
  "cells": [
    {
      "cell_type": "code",
      "source": [
        "!wget https://raw.githubusercontent.com/soni-ratnesh/Sentiment-Analysis-RNN/master/data/reviews.txt"
      ],
      "metadata": {
        "colab": {
          "base_uri": "https://localhost:8080/"
        },
        "id": "B78bJL70x7fm",
        "outputId": "d7bafef5-6e6b-4828-9944-a2540299815b"
      },
      "execution_count": 20,
      "outputs": [
        {
          "output_type": "stream",
          "name": "stdout",
          "text": [
            "--2022-07-25 10:31:59--  https://raw.githubusercontent.com/soni-ratnesh/Sentiment-Analysis-RNN/master/data/reviews.txt\n",
            "Resolving raw.githubusercontent.com (raw.githubusercontent.com)... 185.199.110.133, 185.199.111.133, 185.199.108.133, ...\n",
            "Connecting to raw.githubusercontent.com (raw.githubusercontent.com)|185.199.110.133|:443... connected.\n",
            "HTTP request sent, awaiting response... 200 OK\n",
            "Length: 33678267 (32M) [text/plain]\n",
            "Saving to: ‘reviews.txt’\n",
            "\n",
            "reviews.txt         100%[===================>]  32.12M  --.-KB/s    in 0.1s    \n",
            "\n",
            "2022-07-25 10:32:01 (282 MB/s) - ‘reviews.txt’ saved [33678267/33678267]\n",
            "\n"
          ]
        }
      ]
    },
    {
      "cell_type": "code",
      "source": [
        "!wget https://raw.githubusercontent.com/soni-ratnesh/Sentiment-Analysis-RNN/master/data/labels.txt "
      ],
      "metadata": {
        "colab": {
          "base_uri": "https://localhost:8080/"
        },
        "id": "oFrTAwjIyDwk",
        "outputId": "07ce38b3-a215-4591-af60-a9393dd9f0c7"
      },
      "execution_count": 21,
      "outputs": [
        {
          "output_type": "stream",
          "name": "stdout",
          "text": [
            "--2022-07-25 10:32:01--  https://raw.githubusercontent.com/soni-ratnesh/Sentiment-Analysis-RNN/master/data/labels.txt\n",
            "Resolving raw.githubusercontent.com (raw.githubusercontent.com)... 185.199.108.133, 185.199.109.133, 185.199.110.133, ...\n",
            "Connecting to raw.githubusercontent.com (raw.githubusercontent.com)|185.199.108.133|:443... connected.\n",
            "HTTP request sent, awaiting response... 200 OK\n",
            "Length: 225000 (220K) [text/plain]\n",
            "Saving to: ‘labels.txt’\n",
            "\n",
            "labels.txt          100%[===================>] 219.73K  --.-KB/s    in 0.01s   \n",
            "\n",
            "2022-07-25 10:32:01 (17.2 MB/s) - ‘labels.txt’ saved [225000/225000]\n",
            "\n"
          ]
        }
      ]
    },
    {
      "cell_type": "markdown",
      "source": [
        "# Import Dependencies"
      ],
      "metadata": {
        "id": "pq7koqdRv_ul"
      }
    },
    {
      "cell_type": "code",
      "source": [
        "from string import punctuation\n",
        "from collections import Counter\n",
        "import numpy as np\n",
        "import pandas as pd\n",
        "import random"
      ],
      "metadata": {
        "id": "6Uy5XVe81IVP"
      },
      "execution_count": 22,
      "outputs": []
    },
    {
      "cell_type": "markdown",
      "source": [
        "# Load in the Data"
      ],
      "metadata": {
        "id": "T7NK8kg-tpi1"
      }
    },
    {
      "cell_type": "code",
      "source": [
        "# Read data from text files\n",
        "with open(\"/content/reviews.txt\") as f:\n",
        "  reviews = f.read()\n",
        "\n",
        "with open(\"/content/labels.txt\") as f:\n",
        "  labels = f.read()"
      ],
      "metadata": {
        "id": "V8pfPkdzwaUY"
      },
      "execution_count": 23,
      "outputs": []
    },
    {
      "cell_type": "markdown",
      "source": [
        "# Data Exploration"
      ],
      "metadata": {
        "id": "V0_891cswaR1"
      }
    },
    {
      "cell_type": "code",
      "source": [
        "reviews[: 1000]"
      ],
      "metadata": {
        "colab": {
          "base_uri": "https://localhost:8080/",
          "height": 125
        },
        "id": "3hDswTlHwaN2",
        "outputId": "aff4c09e-5061-42d5-c006-605818a95de4"
      },
      "execution_count": 24,
      "outputs": [
        {
          "output_type": "execute_result",
          "data": {
            "text/plain": [
              "'bromwell high is a cartoon comedy . it ran at the same time as some other programs about school life  such as  teachers  . my   years in the teaching profession lead me to believe that bromwell high  s satire is much closer to reality than is  teachers  . the scramble to survive financially  the insightful students who can see right through their pathetic teachers  pomp  the pettiness of the whole situation  all remind me of the schools i knew and their students . when i saw the episode in which a student repeatedly tried to burn down the school  i immediately recalled . . . . . . . . . at . . . . . . . . . . high . a classic line inspector i  m here to sack one of your teachers . student welcome to bromwell high . i expect that many adults of my age think that bromwell high is far fetched . what a pity that it isn  t   \\nstory of a man who has unnatural feelings for a pig . starts out with a opening scene that is a terrific example of absurd comedy . a formal orchestra audience is turn'"
            ],
            "application/vnd.google.colaboratory.intrinsic+json": {
              "type": "string"
            }
          },
          "metadata": {},
          "execution_count": 24
        }
      ]
    },
    {
      "cell_type": "code",
      "source": [
        "# Characters present in reviews \n",
        "set(reviews)"
      ],
      "metadata": {
        "colab": {
          "base_uri": "https://localhost:8080/"
        },
        "id": "nftXoEDa1PiV",
        "outputId": "b5aea579-4751-4f69-b5bc-4d9443bee38c"
      },
      "execution_count": 25,
      "outputs": [
        {
          "output_type": "execute_result",
          "data": {
            "text/plain": [
              "{'\\n',\n",
              " ' ',\n",
              " '.',\n",
              " 'a',\n",
              " 'b',\n",
              " 'c',\n",
              " 'd',\n",
              " 'e',\n",
              " 'f',\n",
              " 'g',\n",
              " 'h',\n",
              " 'i',\n",
              " 'j',\n",
              " 'k',\n",
              " 'l',\n",
              " 'm',\n",
              " 'n',\n",
              " 'o',\n",
              " 'p',\n",
              " 'q',\n",
              " 'r',\n",
              " 's',\n",
              " 't',\n",
              " 'u',\n",
              " 'v',\n",
              " 'w',\n",
              " 'x',\n",
              " 'y',\n",
              " 'z'}"
            ]
          },
          "metadata": {},
          "execution_count": 25
        }
      ]
    },
    {
      "cell_type": "code",
      "source": [
        "labels[: 1000]"
      ],
      "metadata": {
        "colab": {
          "base_uri": "https://localhost:8080/",
          "height": 125
        },
        "id": "yCAzcUAW7yiH",
        "outputId": "71d45c61-9769-42c5-bcdc-0c733cbe0ce6"
      },
      "execution_count": 26,
      "outputs": [
        {
          "output_type": "execute_result",
          "data": {
            "text/plain": [
              "'positive\\nnegative\\npositive\\nnegative\\npositive\\nnegative\\npositive\\nnegative\\npositive\\nnegative\\npositive\\nnegative\\npositive\\nnegative\\npositive\\nnegative\\npositive\\nnegative\\npositive\\nnegative\\npositive\\nnegative\\npositive\\nnegative\\npositive\\nnegative\\npositive\\nnegative\\npositive\\nnegative\\npositive\\nnegative\\npositive\\nnegative\\npositive\\nnegative\\npositive\\nnegative\\npositive\\nnegative\\npositive\\nnegative\\npositive\\nnegative\\npositive\\nnegative\\npositive\\nnegative\\npositive\\nnegative\\npositive\\nnegative\\npositive\\nnegative\\npositive\\nnegative\\npositive\\nnegative\\npositive\\nnegative\\npositive\\nnegative\\npositive\\nnegative\\npositive\\nnegative\\npositive\\nnegative\\npositive\\nnegative\\npositive\\nnegative\\npositive\\nnegative\\npositive\\nnegative\\npositive\\nnegative\\npositive\\nnegative\\npositive\\nnegative\\npositive\\nnegative\\npositive\\nnegative\\npositive\\nnegative\\npositive\\nnegative\\npositive\\nnegative\\npositive\\nnegative\\npositive\\nnegative\\npositive\\nnegative\\npositive\\nnegative\\npositive\\nnegative\\npositive\\nnegative\\npositive\\nnegative\\npositive\\nnegative\\npositive\\nnegative\\npositive\\nn'"
            ],
            "application/vnd.google.colaboratory.intrinsic+json": {
              "type": "string"
            }
          },
          "metadata": {},
          "execution_count": 26
        }
      ]
    },
    {
      "cell_type": "markdown",
      "source": [
        "# Data Preprocessing"
      ],
      "metadata": {
        "id": "F-PY6P12wh8q"
      }
    },
    {
      "cell_type": "code",
      "source": [
        "# Convert alphabets to lowercase\n",
        "text = reviews.lower()\n",
        "\n",
        "# Remove the punctuations\n",
        "text = ''.join([char  for char in text  if char not in punctuation])\n",
        "\n",
        "# Remove '\\n' character\n",
        "reviews_split = text.split('\\n') # List of reviews\n",
        "text = ' '.join(reviews_split)\n",
        "\n",
        "text[: 5000]"
      ],
      "metadata": {
        "colab": {
          "base_uri": "https://localhost:8080/",
          "height": 125
        },
        "id": "av2vrKZ2FBYs",
        "outputId": "3859fdf9-36cf-41c1-a5cf-223383b36aca"
      },
      "execution_count": 27,
      "outputs": [
        {
          "output_type": "execute_result",
          "data": {
            "text/plain": [
              "'bromwell high is a cartoon comedy  it ran at the same time as some other programs about school life  such as  teachers   my   years in the teaching profession lead me to believe that bromwell high  s satire is much closer to reality than is  teachers   the scramble to survive financially  the insightful students who can see right through their pathetic teachers  pomp  the pettiness of the whole situation  all remind me of the schools i knew and their students  when i saw the episode in which a student repeatedly tried to burn down the school  i immediately recalled          at           high  a classic line inspector i  m here to sack one of your teachers  student welcome to bromwell high  i expect that many adults of my age think that bromwell high is far fetched  what a pity that it isn  t    story of a man who has unnatural feelings for a pig  starts out with a opening scene that is a terrific example of absurd comedy  a formal orchestra audience is turned into an insane  violent mob by the crazy chantings of it  s singers  unfortunately it stays absurd the whole time with no general narrative eventually making it just too off putting  even those from the era should be turned off  the cryptic dialogue would make shakespeare seem easy to a third grader  on a technical level it  s better than you might think with some good cinematography by future great vilmos zsigmond  future stars sally kirkland and frederic forrest can be seen briefly    homelessness  or houselessness as george carlin stated  has been an issue for years but never a plan to help those on the street that were once considered human who did everything from going to school  work  or vote for the matter  most people think of the homeless as just a lost cause while worrying about things such as racism  the war on iraq  pressuring kids to succeed  technology  the elections  inflation  or worrying if they  ll be next to end up on the streets   br    br   but what if you were given a bet to live on the streets for a month without the luxuries you once had from a home  the entertainment sets  a bathroom  pictures on the wall  a computer  and everything you once treasure to see what it  s like to be homeless  that is goddard bolt  s lesson   br    br   mel brooks  who directs  who stars as bolt plays a rich man who has everything in the world until deciding to make a bet with a sissy rival  jeffery tambor  to see if he can live in the streets for thirty days without the luxuries if bolt succeeds  he can do what he wants with a future project of making more buildings  the bet  s on where bolt is thrown on the street with a bracelet on his leg to monitor his every move where he can  t step off the sidewalk  he  s given the nickname pepto by a vagrant after it  s written on his forehead where bolt meets other characters including a woman by the name of molly  lesley ann warren  an ex  dancer who got divorce before losing her home  and her pals sailor  howard morris  and fumes  teddy wilson  who are already used to the streets  they  re survivors  bolt isn  t  he  s not used to reaching mutual agreements like he once did when being rich where it  s fight or flight  kill or be killed   br    br   while the love connection between molly and bolt wasn  t necessary to plot  i found  life stinks  to be one of mel brooks  observant films where prior to being a comedy  it shows a tender side compared to his slapstick work such as blazing saddles  young frankenstein  or spaceballs for the matter  to show what it  s like having something valuable before losing it the next day or on the other hand making a stupid bet like all rich people do when they don  t know what to do with their money  maybe they should give it to the homeless instead of using it like monopoly money   br    br   or maybe this film will inspire you to help others    airport    starts as a brand new luxury    plane is loaded up with valuable paintings  such belonging to rich businessman philip stevens  james stewart  who is flying them  a bunch of vip  s to his estate in preparation of it being opened to the public as a museum  also on board is stevens daughter julie  kathleen quinlan   her son  the luxury jetliner takes off as planned but mid  air the plane is hi  jacked by the co  pilot chambers  robert foxworth   his two accomplice  s banker  monte markham   wilson  michael pataki  who knock the passengers  crew out with sleeping gas  they plan to steal the valuable cargo  land on a disused plane strip on an isolated island but while making his descent chambers almost hits an oil rig in the ocean  loses control of the plane sending it crashing into the sea where it sinks to the bottom right bang in the middle of the bermuda triangle  with air in short supply  water leaking in  having flown over    miles off course the problems mount for the survivor  s as they await help with time fast running out     br    br   also known under the slightly different tile airport     this second sequel to'"
            ],
            "application/vnd.google.colaboratory.intrinsic+json": {
              "type": "string"
            }
          },
          "metadata": {},
          "execution_count": 27
        }
      ]
    },
    {
      "cell_type": "code",
      "source": [
        "labels = labels.split()\n",
        "labels[: 10]"
      ],
      "metadata": {
        "colab": {
          "base_uri": "https://localhost:8080/"
        },
        "id": "xar34Or4cV1e",
        "outputId": "aa8d840e-ad4c-4ef1-8a8a-284f597a489a"
      },
      "execution_count": 28,
      "outputs": [
        {
          "output_type": "execute_result",
          "data": {
            "text/plain": [
              "['positive',\n",
              " 'negative',\n",
              " 'positive',\n",
              " 'negative',\n",
              " 'positive',\n",
              " 'negative',\n",
              " 'positive',\n",
              " 'negative',\n",
              " 'positive',\n",
              " 'negative']"
            ]
          },
          "metadata": {},
          "execution_count": 28
        }
      ]
    },
    {
      "cell_type": "code",
      "source": [
        "# Check if zero-length reviews are present\n",
        "review_lengths = Counter(len(review)  for review in reviews_split)\n",
        "print(f\"Zero-length reviews: {review_lengths[0]}\")"
      ],
      "metadata": {
        "colab": {
          "base_uri": "https://localhost:8080/"
        },
        "id": "zVmO14LWVMbO",
        "outputId": "4b2a7b09-a525-4379-c366-cfc14c38a9df"
      },
      "execution_count": 29,
      "outputs": [
        {
          "output_type": "stream",
          "name": "stdout",
          "text": [
            "Zero-length reviews: 1\n"
          ]
        }
      ]
    },
    {
      "cell_type": "code",
      "source": [
        "# Get index of reviews having non-zero length\n",
        "non_zero_idxs = [idx  for idx, review in enumerate(reviews_split)  if len(review)!=0]\n",
        "\n",
        "# Remove zero-length reviews and their corresponding labels\n",
        "reviews_split = [reviews_split[idx]  for idx in non_zero_idxs]\n",
        "labels = [labels[idx]  for idx in non_zero_idxs]"
      ],
      "metadata": {
        "id": "21XIlRHtWzZp"
      },
      "execution_count": 30,
      "outputs": []
    },
    {
      "cell_type": "code",
      "source": [
        "print(f\"No. of reviews: {len(reviews_split)}\")\n",
        "print(f\"No. of labels : {len(labels)}\")"
      ],
      "metadata": {
        "id": "Pqp1qZse6R3E",
        "colab": {
          "base_uri": "https://localhost:8080/"
        },
        "outputId": "831f1e52-60d2-46ea-bf97-5090680b7f11"
      },
      "execution_count": 31,
      "outputs": [
        {
          "output_type": "stream",
          "name": "stdout",
          "text": [
            "No. of reviews: 25000\n",
            "No. of labels : 25000\n"
          ]
        }
      ]
    },
    {
      "cell_type": "code",
      "source": [
        "# Get a list of words used in reviews\n",
        "words = text.split()\n",
        "print(words[: 15])\n",
        "print(f\"\\nThere are {len(words)} words in reviews.\")"
      ],
      "metadata": {
        "colab": {
          "base_uri": "https://localhost:8080/"
        },
        "id": "As78k33QAB4_",
        "outputId": "084c2439-7fc6-480f-cc67-7e56b49b875d"
      },
      "execution_count": 32,
      "outputs": [
        {
          "output_type": "stream",
          "name": "stdout",
          "text": [
            "['bromwell', 'high', 'is', 'a', 'cartoon', 'comedy', 'it', 'ran', 'at', 'the', 'same', 'time', 'as', 'some', 'other']\n",
            "\n",
            "There are 6020196 words in reviews.\n"
          ]
        }
      ]
    },
    {
      "cell_type": "code",
      "source": [
        "# Get vocabulary\n",
        "vocabulary = set(words)\n",
        "print(f\"There are {len(vocabulary)} words in the vocabulary.\")"
      ],
      "metadata": {
        "colab": {
          "base_uri": "https://localhost:8080/"
        },
        "id": "wO_YoFSYKmsV",
        "outputId": "9ffd232e-8f20-4ccd-af01-8e20a3237d99"
      },
      "execution_count": 33,
      "outputs": [
        {
          "output_type": "stream",
          "name": "stdout",
          "text": [
            "There are 74072 words in the vocabulary.\n"
          ]
        }
      ]
    },
    {
      "cell_type": "markdown",
      "source": [
        "### Create Dictionary\n",
        "\n",
        "\n",
        "The embedding lookup requires that we pass in integers to our network. The easiest way to do this is to create dictionaries that map the words in the vocabulary to integers. Then we can convert each of our reviews into integers so they can be passed into the network.\n",
        "\n",
        "    Exercise: Now you're going to encode the words with integers. Build a dictionary that maps words to integers. Later we're going to pad our input vectors with zeros, so make sure the integers start at 1, not 0. Also, convert the reviews to integers and store the reviews in a new list called reviews_ints.\n"
      ],
      "metadata": {
        "id": "BNNTIyOmeWGn"
      }
    },
    {
      "cell_type": "code",
      "source": [
        "# Encode the words to integers\n",
        "# The integers start from 1 (and not 0) as we'll pad our input vectors with zeros later\n",
        "vocab_to_int = {word: idx  for idx, word in enumerate(vocabulary, 1)}\n",
        "\n",
        "\n",
        "dict(list(vocab_to_int.items())[:10])"
      ],
      "metadata": {
        "colab": {
          "base_uri": "https://localhost:8080/"
        },
        "id": "a_tiHRzXyWlI",
        "outputId": "8c9e13b7-a5ae-437c-b663-68afb137c2cd"
      },
      "execution_count": 34,
      "outputs": [
        {
          "output_type": "execute_result",
          "data": {
            "text/plain": [
              "{'canoeing': 2,\n",
              " 'diagram': 10,\n",
              " 'franklyn': 9,\n",
              " 'gratification': 5,\n",
              " 'hypothetically': 6,\n",
              " 'incredible': 8,\n",
              " 'marti': 1,\n",
              " 'pleasers': 4,\n",
              " 'principal': 3,\n",
              " 'windy': 7}"
            ]
          },
          "metadata": {},
          "execution_count": 34
        }
      ]
    },
    {
      "cell_type": "code",
      "source": [
        "# int_vocab = dict(enumerate(unique_words))\n",
        "\n",
        "# dict(list(int_vocab.items())[:10])"
      ],
      "metadata": {
        "id": "OoFBbms0Odri"
      },
      "execution_count": 35,
      "outputs": []
    },
    {
      "cell_type": "markdown",
      "source": [
        "### Tokenize Reviews"
      ],
      "metadata": {
        "id": "qqUAEPUhRrgk"
      }
    },
    {
      "cell_type": "code",
      "source": [
        "reviews_int = [] # Will store tokenized reviews\n",
        "\n",
        "# Tokenize each review\n",
        "for review in reviews_split:\n",
        "  reviews_int.append([vocab_to_int[word]  for word in review.split()])"
      ],
      "metadata": {
        "id": "-hCBm_uRSeSs"
      },
      "execution_count": 36,
      "outputs": []
    },
    {
      "cell_type": "code",
      "source": [
        "rand_idx = random.randint(0, len(reviews_split))\n",
        "\n",
        "print(f\"REVIEW:\\n   {reviews_split[rand_idx]}\\n\")\n",
        "print(f\"   No. of words in the review: {len(reviews_split[rand_idx].split())}\\n\")\n",
        "\n",
        "print(\"-\" * 20)\n",
        "\n",
        "print(f\"\\nTOKENIZED VERSION:\\n   {reviews_int[rand_idx]}\\n\")\n",
        "print(f\"   No. of tokens in the tokenized version: {len(reviews_int[rand_idx])}\")\n"
      ],
      "metadata": {
        "colab": {
          "base_uri": "https://localhost:8080/"
        },
        "id": "NEEqBATa5Szf",
        "outputId": "671b3a3b-a902-44c2-9970-6b35183e34c5"
      },
      "execution_count": 37,
      "outputs": [
        {
          "output_type": "stream",
          "name": "stdout",
          "text": [
            "REVIEW:\n",
            "   i was blown away by the re  imagined battlestar galactica  a show that always kept me guessing and brought me to tears on more than one occasion  a hardened sci  fi fan  i like to think i can pick out the good stuff from the bs  and this was good stuff   br    br   as such  when i first heard about the prospect of a prequel series some months ago i got a sick feeling in my gut  i was afraid that the formula that made battlestar so successful would be reused in caprica  which wouldn  t work at all  bsg  s story  of a mournful ragged band of survivors  trapped aboard decaying star ships and guided by prophetic vision and a sequence of pseudo  miracles  was perfectly complimented by extraordinary music and a better cast of actors   br    br   caprica feels different  where bsg takes place after the fall of a great civilization  caprica portrays that civilization in it  s cold and decadent heyday  the overall vibe i got from caprica was similar to that of minority report  minus excessive and counterproductive theatricality  in true bsg form  caprica has in it  s first few hours of programming already tackled the issues of religious freedom  racism  the morality of playing god and the nature of the human soul   br    br   the casting for caprica is also excellent  each character is unique and deep  from the obsessive and distant scientist  turned  entrepreneur  to his troubled and willful daughter  each actor and actress throws themselves into their respective roles   br    br   music  which was used so powerfully in bsg  also plays a significant role in caprica  battlestar  s powerful rolling drums and mournful duduks served it  s themes very well  caprica uses a more orchestral sound  which gives the show it  s own feeling quite distinct from either of it  s predecessors   br    br   the new caprica is definitely it  s own show  pulling from the battlestar franchise only as much as it needs  i look forward to the full series   \n",
            "\n",
            "   No. of words in the review: 338\n",
            "\n",
            "--------------------\n",
            "\n",
            "TOKENIZED VERSION:\n",
            "   [63770, 73406, 5250, 13063, 69327, 55998, 34528, 33420, 44450, 69463, 52195, 64456, 18072, 48813, 11427, 73422, 13579, 44267, 37626, 73422, 1762, 5335, 21868, 3670, 20082, 43417, 28614, 52195, 47272, 9041, 44422, 34221, 63770, 27301, 1762, 18985, 63770, 59002, 59923, 24221, 55998, 51499, 21348, 44760, 55998, 71856, 44267, 10480, 73406, 51499, 21348, 25915, 25915, 72579, 27116, 22696, 63770, 38038, 11226, 22166, 55998, 52785, 67308, 52195, 18959, 61465, 47915, 49895, 61166, 63770, 60801, 52195, 26350, 38197, 43605, 28322, 73950, 63770, 73406, 34849, 18072, 55998, 1677, 18072, 1048, 44450, 69550, 66219, 9306, 71387, 38337, 43605, 38432, 6069, 61628, 6933, 23708, 73741, 13451, 45552, 6320, 70195, 67308, 52195, 45482, 54712, 27186, 67308, 10741, 28385, 54097, 72457, 62165, 30116, 44267, 1851, 69327, 32610, 32181, 44267, 52195, 49074, 67308, 24385, 39638, 73406, 63117, 31560, 69327, 9679, 22241, 44267, 52195, 63627, 58055, 67308, 44515, 25915, 25915, 38432, 69801, 60770, 9019, 45552, 29573, 47296, 2764, 55998, 23810, 67308, 52195, 331, 2497, 38432, 58557, 18072, 2497, 43605, 37110, 6320, 31026, 44267, 60448, 32812, 55998, 54904, 58439, 63770, 60801, 44760, 38432, 73406, 5658, 1762, 18072, 67308, 43827, 6213, 44335, 69107, 44267, 69642, 31676, 43605, 28343, 45552, 38484, 38432, 50809, 43605, 37110, 6320, 38038, 22210, 17294, 67308, 72265, 71197, 71002, 55998, 59894, 67308, 39840, 16386, 53608, 55998, 71859, 67308, 10979, 12720, 44267, 55998, 2227, 67308, 55998, 67016, 22657, 25915, 25915, 55998, 29246, 19899, 38432, 53783, 69075, 59346, 42329, 42940, 53783, 63169, 44267, 67615, 44760, 55998, 22443, 44267, 6767, 38784, 36851, 61087, 1762, 18939, 65764, 44267, 21503, 17139, 42329, 56351, 44267, 60438, 20187, 39272, 10900, 26239, 14902, 20035, 25915, 25915, 22241, 6069, 73406, 20850, 69550, 19533, 43605, 45552, 69075, 20800, 52195, 17698, 16101, 43605, 38432, 44450, 6320, 57979, 19163, 44280, 44267, 45482, 66593, 21963, 37110, 6320, 9500, 67190, 66059, 38432, 873, 52195, 3670, 6267, 5565, 6069, 39562, 55998, 64456, 37110, 6320, 42893, 38197, 24041, 20237, 44760, 16997, 67308, 37110, 6320, 51934, 25915, 25915, 55998, 31184, 38432, 53783, 34360, 37110, 6320, 42893, 64456, 17880, 44760, 55998, 44450, 17718, 18858, 72579, 45936, 72579, 37110, 24953, 63770, 31025, 54246, 1762, 55998, 20429, 61465]\n",
            "\n",
            "   No. of tokens in the tokenized version: 338\n"
          ]
        }
      ]
    },
    {
      "cell_type": "markdown",
      "source": [
        "### Encode Labels"
      ],
      "metadata": {
        "id": "thGTreQR874O"
      }
    },
    {
      "cell_type": "code",
      "source": [
        "encoded_labels = np.array([1 if label==\"positive\" else 0  for label in labels])\n",
        "print(f\"No. of labels: {len(encoded_labels)}\")\n",
        "print(encoded_labels[:20])"
      ],
      "metadata": {
        "colab": {
          "base_uri": "https://localhost:8080/"
        },
        "id": "M3cW2g1j8_Xj",
        "outputId": "6997e903-7546-4c71-fd3d-8f10cbc97093"
      },
      "execution_count": 50,
      "outputs": [
        {
          "output_type": "stream",
          "name": "stdout",
          "text": [
            "No. of labels: 25000\n",
            "[1 0 1 0 1 0 1 0 1 0 1 0 1 0 1 0 1 0 1 0]\n"
          ]
        }
      ]
    },
    {
      "cell_type": "code",
      "source": [
        "# Get length of the longest review\n",
        "max_len = max(len(review)  for review in reviews_int)\n",
        "\n",
        "# Get the average length of reviews\n",
        "avg_len = sum([len(review)  for review in reviews_int]) / len(reviews_int)\n",
        "\n",
        "print(f\"The length of the longest review is {max_len}.\")\n",
        "print(f\"The average length of reviews is {avg_len:.2f}\")"
      ],
      "metadata": {
        "colab": {
          "base_uri": "https://localhost:8080/"
        },
        "id": "UGfH6HUQTcGq",
        "outputId": "78121cc2-79a3-4bc1-9bda-ff2e7d59dfb1"
      },
      "execution_count": 39,
      "outputs": [
        {
          "output_type": "stream",
          "name": "stdout",
          "text": [
            "The length of the longest review is 2514.\n",
            "The average length of reviews is 240.81\n"
          ]
        }
      ]
    },
    {
      "cell_type": "code",
      "source": [
        "def pad_reviews_with_zeros(reviews_int, seq_len):\n",
        "  features = np.zeros((len(reviews_int), seq_len), dtype=np.int32)\n",
        "\n",
        "  for idx, review in enumerate(reviews_int):\n",
        "    features[idx][-len(review):] = np.array(review)[:seq_len] \n",
        "\n",
        "  return features"
      ],
      "metadata": {
        "id": "9le0fC2eVgnE"
      },
      "execution_count": 40,
      "outputs": []
    },
    {
      "cell_type": "code",
      "source": [
        "features = pad_reviews_with_zeros(reviews_int, seq_len=512)\n",
        "features"
      ],
      "metadata": {
        "id": "dSk7-76XI13v",
        "colab": {
          "base_uri": "https://localhost:8080/"
        },
        "outputId": "9cac5747-7d64-439a-fb89-dfeb39879f1d"
      },
      "execution_count": 41,
      "outputs": [
        {
          "output_type": "execute_result",
          "data": {
            "text/plain": [
              "array([[    0,     0,     0, ..., 37110,  7673,  6933],\n",
              "       [    0,     0,     0, ..., 71387, 67335, 53822],\n",
              "       [    0,     0,     0, ...,  1762, 58167, 32187],\n",
              "       ...,\n",
              "       [    0,     0,     0, ...,  8032, 54418, 21866],\n",
              "       [    0,     0,     0, ..., 49017, 56340, 44760],\n",
              "       [    0,     0,     0, ..., 10480, 53783, 20654]], dtype=int32)"
            ]
          },
          "metadata": {},
          "execution_count": 41
        }
      ]
    },
    {
      "cell_type": "code",
      "source": [
        "type(encoded_labels)"
      ],
      "metadata": {
        "colab": {
          "base_uri": "https://localhost:8080/"
        },
        "id": "FPsjLLJJSFbA",
        "outputId": "d81ae523-4a00-4670-f939-b216789b88d2"
      },
      "execution_count": 42,
      "outputs": [
        {
          "output_type": "execute_result",
          "data": {
            "text/plain": [
              "numpy.ndarray"
            ]
          },
          "metadata": {},
          "execution_count": 42
        }
      ]
    },
    {
      "cell_type": "code",
      "source": [
        "features.shape, encoded_labels.shape"
      ],
      "metadata": {
        "colab": {
          "base_uri": "https://localhost:8080/"
        },
        "id": "X9bw_RmMSevT",
        "outputId": "c6c308ae-bf9f-4877-bdd5-48de6448b79e"
      },
      "execution_count": 43,
      "outputs": [
        {
          "output_type": "execute_result",
          "data": {
            "text/plain": [
              "((25000, 512), (25000,))"
            ]
          },
          "metadata": {},
          "execution_count": 43
        }
      ]
    },
    {
      "cell_type": "code",
      "source": [
        ""
      ],
      "metadata": {
        "id": "J-lUKE-XQp1U"
      },
      "execution_count": null,
      "outputs": []
    },
    {
      "cell_type": "code",
      "source": [
        ""
      ],
      "metadata": {
        "id": "RnvjX9IYBecS"
      },
      "execution_count": null,
      "outputs": []
    },
    {
      "cell_type": "code",
      "source": [
        ""
      ],
      "metadata": {
        "id": "JUanGZpWBeZw"
      },
      "execution_count": null,
      "outputs": []
    },
    {
      "cell_type": "code",
      "source": [
        "import tensorflow as tf"
      ],
      "metadata": {
        "id": "ZNxXIJX67lvz"
      },
      "execution_count": 61,
      "outputs": []
    },
    {
      "cell_type": "code",
      "source": [
        "from sklearn.model_selection import train_test_split"
      ],
      "metadata": {
        "id": "qF01wHaz7ltV"
      },
      "execution_count": 45,
      "outputs": []
    },
    {
      "cell_type": "code",
      "source": [
        "X_train, X_test, y_train, y_test = train_test_split(features, encoded_labels,\n",
        "                                                    test_size=0.2,\n",
        "                                                    shuffle=True)\n",
        "\n",
        "\n",
        "print(f\"\"\"\n",
        "X_train shape: {X_train.shape}\n",
        "y_train shape: {y_train.shape}\n",
        "X_test shape : {X_test.shape}\n",
        "y_test shape : {y_test.shape}\"\"\")"
      ],
      "metadata": {
        "colab": {
          "base_uri": "https://localhost:8080/"
        },
        "id": "goEMMwex7r-v",
        "outputId": "4dbb350c-2792-4258-cf24-552141554edc"
      },
      "execution_count": 58,
      "outputs": [
        {
          "output_type": "stream",
          "name": "stdout",
          "text": [
            "\n",
            "X_train shape: (20000, 512)\n",
            "y_train shape: (20000,)\n",
            "X_test shape : (5000, 512)\n",
            "y_test shape : (5000,)\n"
          ]
        }
      ]
    },
    {
      "cell_type": "code",
      "source": [
        "one, zero = 1, 0\n",
        "\n",
        "for  i in y_train[:100]:\n",
        "  if i == 1:\n",
        "    one = one+1\n",
        "  else:\n",
        "    zero = zero+1\n",
        "\n",
        "print(one,zero)"
      ],
      "metadata": {
        "colab": {
          "base_uri": "https://localhost:8080/"
        },
        "id": "bq18M2yf7lnx",
        "outputId": "a474dd85-3009-4030-fd4f-a6b74a141273"
      },
      "execution_count": 59,
      "outputs": [
        {
          "output_type": "stream",
          "name": "stdout",
          "text": [
            "49 52\n"
          ]
        }
      ]
    },
    {
      "cell_type": "code",
      "source": [
        "y_test[:20]"
      ],
      "metadata": {
        "colab": {
          "base_uri": "https://localhost:8080/"
        },
        "id": "bUtHiGkX8jyU",
        "outputId": "e7adbc55-a9a9-4cef-87d0-fba587220e30"
      },
      "execution_count": 60,
      "outputs": [
        {
          "output_type": "execute_result",
          "data": {
            "text/plain": [
              "array([0, 1, 0, 1, 0, 0, 0, 0, 0, 1, 1, 1, 1, 1, 0, 1, 0, 1, 0, 1])"
            ]
          },
          "metadata": {},
          "execution_count": 60
        }
      ]
    },
    {
      "cell_type": "markdown",
      "source": [
        "### Generate Datasets"
      ],
      "metadata": {
        "id": "WA8lhhlb8jvU"
      }
    },
    {
      "cell_type": "code",
      "source": [
        "def get_training_dataset(X_train, y_train, batch_size=32):\n",
        "  train_dataset = tf.data.Dataset.from_tensor_slices((X_train, y_train))\n",
        "  train_dataset = train_dataset.shuffle(buffer_size=len(X_train), reshuffle_each_iteration=True)\n",
        "  train_dataset = train_dataset.batch(batch_size)\n",
        "  train_dataset = train_dataset.prefetch(buffer_size=tf.data.AUTOTUNE)\n",
        "\n",
        "  return train_dataset"
      ],
      "metadata": {
        "id": "CQ44OjWj8jsG"
      },
      "execution_count": 64,
      "outputs": []
    },
    {
      "cell_type": "code",
      "source": [
        "def get_validation_dataset(X_test, y_test, batch_size=32):\n",
        "  validation_dataset = tf.data.Dataset.from_tensor_slices((X_train, y_train))\n",
        "  validation_dataset = validation_dataset.batch(batch_size)\n",
        "\n",
        "  return validation_dataset"
      ],
      "metadata": {
        "id": "sc2CtwDT7llV"
      },
      "execution_count": 65,
      "outputs": []
    },
    {
      "cell_type": "code",
      "source": [
        "# Get training dataset\n",
        "train_dataset = get_training_dataset(X_train, y_train, batch_size=32)\n",
        "\n",
        "# Get validaton dataset\n",
        "validation_dataset = get_validation_dataset(X_test, y_test, batch_size=32)"
      ],
      "metadata": {
        "id": "RBjV7Mr4AZj4"
      },
      "execution_count": 66,
      "outputs": []
    },
    {
      "cell_type": "code",
      "source": [
        "# Get sample training dataset\n",
        "sample_x, sample_y = train_dataset.as_numpy_iterator().next()\n",
        "\n",
        "print(f'Input shape: {sample_x.shape}') \n",
        "print(f'Input: \\n{sample_x}')\n",
        "print(\"\\n\")\n",
        "print(f'Label shape: {sample_y.shape}') \n",
        "print(f'Label: \\n{sample_y}')"
      ],
      "metadata": {
        "colab": {
          "base_uri": "https://localhost:8080/"
        },
        "id": "DLcWk3fEAZeq",
        "outputId": "b6588698-1d23-4262-fb81-f123de12efa8"
      },
      "execution_count": 79,
      "outputs": [
        {
          "output_type": "stream",
          "name": "stdout",
          "text": [
            "Input shape: (32, 512)\n",
            "Input: \n",
            "[[    0     0     0 ... 61453 44267 26205]\n",
            " [10480  6753 71387 ... 53783 63525 44267]\n",
            " [    0     0     0 ... 20034 25915 25915]\n",
            " ...\n",
            " [    0     0     0 ... 25915 25915 52195]\n",
            " [    0     0     0 ... 52195 58715 69505]\n",
            " [    0     0     0 ... 61320  1762 31635]]\n",
            "\n",
            "\n",
            "Label shape: (32,)\n",
            "Label: \n",
            "[1 1 1 0 1 1 0 0 0 1 1 1 1 1 1 1 0 1 0 0 0 1 0 1 0 0 1 0 0 1 0 1]\n"
          ]
        }
      ]
    },
    {
      "cell_type": "code",
      "source": [
        ""
      ],
      "metadata": {
        "id": "fTUhRU1lG-Eu"
      },
      "execution_count": null,
      "outputs": []
    },
    {
      "cell_type": "code",
      "source": [
        ""
      ],
      "metadata": {
        "id": "46ZSuoySG-CQ"
      },
      "execution_count": null,
      "outputs": []
    },
    {
      "cell_type": "code",
      "source": [
        ""
      ],
      "metadata": {
        "id": "61aaOXbEG9_c"
      },
      "execution_count": null,
      "outputs": []
    },
    {
      "cell_type": "code",
      "source": [
        "# rev = [[12, 13, 15],\n",
        "#        [45, 85, 64, 45, 63, 78, 45],\n",
        "#        [16, 75, 96, 42]]"
      ],
      "metadata": {
        "id": "AiwKC6MYQpn5"
      },
      "execution_count": null,
      "outputs": []
    }
  ]
}