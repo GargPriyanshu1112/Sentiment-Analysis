{
  "cells": [
    {
      "cell_type": "code",
      "execution_count": 2,
      "metadata": {
        "colab": {
          "base_uri": "https://localhost:8080/"
        },
        "id": "B78bJL70x7fm",
        "outputId": "d7bafef5-6e6b-4828-9944-a2540299815b"
      },
      "outputs": [],
      "source": [
        "# !wget https://raw.githubusercontent.com/soni-ratnesh/Sentiment-Analysis-RNN/master/data/reviews.txt"
      ]
    },
    {
      "cell_type": "code",
      "execution_count": 3,
      "metadata": {
        "colab": {
          "base_uri": "https://localhost:8080/"
        },
        "id": "oFrTAwjIyDwk",
        "outputId": "07ce38b3-a215-4591-af60-a9393dd9f0c7"
      },
      "outputs": [],
      "source": [
        "# !wget https://raw.githubusercontent.com/soni-ratnesh/Sentiment-Analysis-RNN/master/data/labels.txt "
      ]
    },
    {
      "cell_type": "markdown",
      "metadata": {
        "id": "pq7koqdRv_ul"
      },
      "source": [
        "# Import Dependencies"
      ]
    },
    {
      "cell_type": "code",
      "execution_count": 4,
      "metadata": {
        "id": "6Uy5XVe81IVP"
      },
      "outputs": [],
      "source": [
        "from string import punctuation\n",
        "from collections import Counter\n",
        "import numpy as np\n",
        "import pandas as pd\n",
        "import random"
      ]
    },
    {
      "cell_type": "markdown",
      "metadata": {
        "id": "T7NK8kg-tpi1"
      },
      "source": [
        "# Load in the Data"
      ]
    },
    {
      "cell_type": "code",
      "execution_count": 5,
      "metadata": {
        "id": "V8pfPkdzwaUY"
      },
      "outputs": [],
      "source": [
        "# Read data from text files\n",
        "with open(\"reviews.txt\") as f:\n",
        "  reviews = f.read()\n",
        "\n",
        "with open(\"labels.txt\") as f:\n",
        "  labels = f.read()"
      ]
    },
    {
      "cell_type": "markdown",
      "metadata": {
        "id": "V0_891cswaR1"
      },
      "source": [
        "# Data Exploration"
      ]
    },
    {
      "cell_type": "code",
      "execution_count": 6,
      "metadata": {
        "colab": {
          "base_uri": "https://localhost:8080/",
          "height": 125
        },
        "id": "3hDswTlHwaN2",
        "outputId": "aff4c09e-5061-42d5-c006-605818a95de4"
      },
      "outputs": [
        {
          "data": {
            "text/plain": [
              "'bromwell high is a cartoon comedy . it ran at the same time as some other programs about school life  such as  teachers  . my   years in the teaching profession lead me to believe that bromwell high  s satire is much closer to reality than is  teachers  . the scramble to survive financially  the insightful students who can see right through their pathetic teachers  pomp  the pettiness of the whole situation  all remind me of the schools i knew and their students . when i saw the episode in which a student repeatedly tried to burn down the school  i immediately recalled . . . . . . . . . at . . . . . . . . . . high . a classic line inspector i  m here to sack one of your teachers . student welcome to bromwell high . i expect that many adults of my age think that bromwell high is far fetched . what a pity that it isn  t   \\nstory of a man who has unnatural feelings for a pig . starts out with a opening scene that is a terrific example of absurd comedy . a formal orchestra audience is turn'"
            ]
          },
          "execution_count": 6,
          "metadata": {},
          "output_type": "execute_result"
        }
      ],
      "source": [
        "reviews[: 1000]"
      ]
    },
    {
      "cell_type": "code",
      "execution_count": 7,
      "metadata": {
        "colab": {
          "base_uri": "https://localhost:8080/"
        },
        "id": "nftXoEDa1PiV",
        "outputId": "b5aea579-4751-4f69-b5bc-4d9443bee38c"
      },
      "outputs": [
        {
          "data": {
            "text/plain": [
              "{'\\n',\n",
              " ' ',\n",
              " '.',\n",
              " 'a',\n",
              " 'b',\n",
              " 'c',\n",
              " 'd',\n",
              " 'e',\n",
              " 'f',\n",
              " 'g',\n",
              " 'h',\n",
              " 'i',\n",
              " 'j',\n",
              " 'k',\n",
              " 'l',\n",
              " 'm',\n",
              " 'n',\n",
              " 'o',\n",
              " 'p',\n",
              " 'q',\n",
              " 'r',\n",
              " 's',\n",
              " 't',\n",
              " 'u',\n",
              " 'v',\n",
              " 'w',\n",
              " 'x',\n",
              " 'y',\n",
              " 'z'}"
            ]
          },
          "execution_count": 7,
          "metadata": {},
          "output_type": "execute_result"
        }
      ],
      "source": [
        "# Characters present in reviews \n",
        "set(reviews)"
      ]
    },
    {
      "cell_type": "code",
      "execution_count": 8,
      "metadata": {
        "colab": {
          "base_uri": "https://localhost:8080/",
          "height": 125
        },
        "id": "yCAzcUAW7yiH",
        "outputId": "71d45c61-9769-42c5-bcdc-0c733cbe0ce6"
      },
      "outputs": [
        {
          "data": {
            "text/plain": [
              "'positive\\nnegative\\npositive\\nnegative\\npositive\\nnegative\\npositive\\nnegative\\npositive\\nnegative\\npositive\\nnegative\\npositive\\nnegative\\npositive\\nnegative\\npositive\\nnegative\\npositive\\nnegative\\npositive\\nnegative\\npositive\\nnegative\\npositive\\nnegative\\npositive\\nnegative\\npositive\\nnegative\\npositive\\nnegative\\npositive\\nnegative\\npositive\\nnegative\\npositive\\nnegative\\npositive\\nnegative\\npositive\\nnegative\\npositive\\nnegative\\npositive\\nnegative\\npositive\\nnegative\\npositive\\nnegative\\npositive\\nnegative\\npositive\\nnegative\\npositive\\nnegative\\npositive\\nnegative\\npositive\\nnegative\\npositive\\nnegative\\npositive\\nnegative\\npositive\\nnegative\\npositive\\nnegative\\npositive\\nnegative\\npositive\\nnegative\\npositive\\nnegative\\npositive\\nnegative\\npositive\\nnegative\\npositive\\nnegative\\npositive\\nnegative\\npositive\\nnegative\\npositive\\nnegative\\npositive\\nnegative\\npositive\\nnegative\\npositive\\nnegative\\npositive\\nnegative\\npositive\\nnegative\\npositive\\nnegative\\npositive\\nnegative\\npositive\\nnegative\\npositive\\nnegative\\npositive\\nnegative\\npositive\\nnegative\\npositive\\nnegative\\npositive\\nn'"
            ]
          },
          "execution_count": 8,
          "metadata": {},
          "output_type": "execute_result"
        }
      ],
      "source": [
        "labels[: 1000]"
      ]
    },
    {
      "cell_type": "markdown",
      "metadata": {
        "id": "F-PY6P12wh8q"
      },
      "source": [
        "# Data Preprocessing"
      ]
    },
    {
      "cell_type": "code",
      "execution_count": 9,
      "metadata": {
        "colab": {
          "base_uri": "https://localhost:8080/",
          "height": 125
        },
        "id": "av2vrKZ2FBYs",
        "outputId": "3859fdf9-36cf-41c1-a5cf-223383b36aca"
      },
      "outputs": [
        {
          "data": {
            "text/plain": [
              "'bromwell high is a cartoon comedy  it ran at the same time as some other programs about school life  such as  teachers   my   years in the teaching profession lead me to believe that bromwell high  s satire is much closer to reality than is  teachers   the scramble to survive financially  the insightful students who can see right through their pathetic teachers  pomp  the pettiness of the whole situation  all remind me of the schools i knew and their students  when i saw the episode in which a student repeatedly tried to burn down the school  i immediately recalled          at           high  a classic line inspector i  m here to sack one of your teachers  student welcome to bromwell high  i expect that many adults of my age think that bromwell high is far fetched  what a pity that it isn  t    story of a man who has unnatural feelings for a pig  starts out with a opening scene that is a terrific example of absurd comedy  a formal orchestra audience is turned into an insane  violent mob by the crazy chantings of it  s singers  unfortunately it stays absurd the whole time with no general narrative eventually making it just too off putting  even those from the era should be turned off  the cryptic dialogue would make shakespeare seem easy to a third grader  on a technical level it  s better than you might think with some good cinematography by future great vilmos zsigmond  future stars sally kirkland and frederic forrest can be seen briefly    homelessness  or houselessness as george carlin stated  has been an issue for years but never a plan to help those on the street that were once considered human who did everything from going to school  work  or vote for the matter  most people think of the homeless as just a lost cause while worrying about things such as racism  the war on iraq  pressuring kids to succeed  technology  the elections  inflation  or worrying if they  ll be next to end up on the streets   br    br   but what if you were given a bet to live on the streets for a month without the luxuries you once had from a home  the entertainment sets  a bathroom  pictures on the wall  a computer  and everything you once treasure to see what it  s like to be homeless  that is goddard bolt  s lesson   br    br   mel brooks  who directs  who stars as bolt plays a rich man who has everything in the world until deciding to make a bet with a sissy rival  jeffery tambor  to see if he can live in the streets for thirty days without the luxuries if bolt succeeds  he can do what he wants with a future project of making more buildings  the bet  s on where bolt is thrown on the street with a bracelet on his leg to monitor his every move where he can  t step off the sidewalk  he  s given the nickname pepto by a vagrant after it  s written on his forehead where bolt meets other characters including a woman by the name of molly  lesley ann warren  an ex  dancer who got divorce before losing her home  and her pals sailor  howard morris  and fumes  teddy wilson  who are already used to the streets  they  re survivors  bolt isn  t  he  s not used to reaching mutual agreements like he once did when being rich where it  s fight or flight  kill or be killed   br    br   while the love connection between molly and bolt wasn  t necessary to plot  i found  life stinks  to be one of mel brooks  observant films where prior to being a comedy  it shows a tender side compared to his slapstick work such as blazing saddles  young frankenstein  or spaceballs for the matter  to show what it  s like having something valuable before losing it the next day or on the other hand making a stupid bet like all rich people do when they don  t know what to do with their money  maybe they should give it to the homeless instead of using it like monopoly money   br    br   or maybe this film will inspire you to help others    airport    starts as a brand new luxury    plane is loaded up with valuable paintings  such belonging to rich businessman philip stevens  james stewart  who is flying them  a bunch of vip  s to his estate in preparation of it being opened to the public as a museum  also on board is stevens daughter julie  kathleen quinlan   her son  the luxury jetliner takes off as planned but mid  air the plane is hi  jacked by the co  pilot chambers  robert foxworth   his two accomplice  s banker  monte markham   wilson  michael pataki  who knock the passengers  crew out with sleeping gas  they plan to steal the valuable cargo  land on a disused plane strip on an isolated island but while making his descent chambers almost hits an oil rig in the ocean  loses control of the plane sending it crashing into the sea where it sinks to the bottom right bang in the middle of the bermuda triangle  with air in short supply  water leaking in  having flown over    miles off course the problems mount for the survivor  s as they await help with time fast running out     br    br   also known under the slightly different tile airport     this second sequel to'"
            ]
          },
          "execution_count": 9,
          "metadata": {},
          "output_type": "execute_result"
        }
      ],
      "source": [
        "# Convert alphabets to lowercase\n",
        "text = reviews.lower()\n",
        "\n",
        "# Remove the punctuations\n",
        "text = ''.join([char  for char in text  if char not in punctuation])\n",
        "\n",
        "# Remove '\\n' character\n",
        "reviews_split = text.split('\\n') # List of reviews\n",
        "text = ' '.join(reviews_split)\n",
        "\n",
        "text[: 5000]"
      ]
    },
    {
      "cell_type": "code",
      "execution_count": 10,
      "metadata": {
        "colab": {
          "base_uri": "https://localhost:8080/"
        },
        "id": "xar34Or4cV1e",
        "outputId": "aa8d840e-ad4c-4ef1-8a8a-284f597a489a"
      },
      "outputs": [
        {
          "data": {
            "text/plain": [
              "['positive',\n",
              " 'negative',\n",
              " 'positive',\n",
              " 'negative',\n",
              " 'positive',\n",
              " 'negative',\n",
              " 'positive',\n",
              " 'negative',\n",
              " 'positive',\n",
              " 'negative']"
            ]
          },
          "execution_count": 10,
          "metadata": {},
          "output_type": "execute_result"
        }
      ],
      "source": [
        "labels = labels.split()\n",
        "labels[: 10]"
      ]
    },
    {
      "cell_type": "code",
      "execution_count": 11,
      "metadata": {
        "colab": {
          "base_uri": "https://localhost:8080/"
        },
        "id": "zVmO14LWVMbO",
        "outputId": "4b2a7b09-a525-4379-c366-cfc14c38a9df"
      },
      "outputs": [
        {
          "name": "stdout",
          "output_type": "stream",
          "text": [
            "Zero-length reviews: 1\n"
          ]
        }
      ],
      "source": [
        "# Check if zero-length reviews are present\n",
        "review_lengths = Counter(len(review)  for review in reviews_split)\n",
        "print(f\"Zero-length reviews: {review_lengths[0]}\")"
      ]
    },
    {
      "cell_type": "code",
      "execution_count": 12,
      "metadata": {
        "id": "21XIlRHtWzZp"
      },
      "outputs": [],
      "source": [
        "# Get index of reviews having non-zero length\n",
        "non_zero_idxs = [idx  for idx, review in enumerate(reviews_split)  if len(review)!=0]\n",
        "\n",
        "# Remove zero-length reviews and their corresponding labels\n",
        "reviews_split = [reviews_split[idx]  for idx in non_zero_idxs]\n",
        "labels = [labels[idx]  for idx in non_zero_idxs]"
      ]
    },
    {
      "cell_type": "code",
      "execution_count": 13,
      "metadata": {
        "colab": {
          "base_uri": "https://localhost:8080/"
        },
        "id": "Pqp1qZse6R3E",
        "outputId": "831f1e52-60d2-46ea-bf97-5090680b7f11"
      },
      "outputs": [
        {
          "name": "stdout",
          "output_type": "stream",
          "text": [
            "No. of reviews: 25000\n",
            "No. of labels : 25000\n"
          ]
        }
      ],
      "source": [
        "print(f\"No. of reviews: {len(reviews_split)}\")\n",
        "print(f\"No. of labels : {len(labels)}\")"
      ]
    },
    {
      "cell_type": "code",
      "execution_count": 14,
      "metadata": {
        "colab": {
          "base_uri": "https://localhost:8080/"
        },
        "id": "As78k33QAB4_",
        "outputId": "084c2439-7fc6-480f-cc67-7e56b49b875d"
      },
      "outputs": [
        {
          "name": "stdout",
          "output_type": "stream",
          "text": [
            "['bromwell', 'high', 'is', 'a', 'cartoon', 'comedy', 'it', 'ran', 'at', 'the', 'same', 'time', 'as', 'some', 'other']\n",
            "\n",
            "There are 6020196 words in reviews.\n"
          ]
        }
      ],
      "source": [
        "# Get a list of words used in reviews\n",
        "words = text.split()\n",
        "print(words[: 15])\n",
        "print(f\"\\nThere are {len(words)} words in reviews.\")"
      ]
    },
    {
      "cell_type": "code",
      "execution_count": 15,
      "metadata": {
        "colab": {
          "base_uri": "https://localhost:8080/"
        },
        "id": "wO_YoFSYKmsV",
        "outputId": "9ffd232e-8f20-4ccd-af01-8e20a3237d99"
      },
      "outputs": [
        {
          "name": "stdout",
          "output_type": "stream",
          "text": [
            "There are 74072 words in the vocabulary.\n"
          ]
        }
      ],
      "source": [
        "# Get vocabulary\n",
        "vocabulary = set(words)\n",
        "print(f\"There are {len(vocabulary)} words in the vocabulary.\")"
      ]
    },
    {
      "cell_type": "markdown",
      "metadata": {
        "id": "BNNTIyOmeWGn"
      },
      "source": [
        "### Create Dictionary\n",
        "\n",
        "\n",
        "The embedding lookup requires that we pass in integers to our network. The easiest way to do this is to create dictionaries that map the words in the vocabulary to integers. Then we can convert each of our reviews into integers so they can be passed into the network.\n",
        "\n",
        "    Now you're going to encode the words with integers. Build a dictionary that maps words to integers. Later we're going to pad our input vectors with zeros, so make sure the integers start at 1, not 0. Also, convert the reviews to integers and store the reviews in a new list called reviews_ints.\n"
      ]
    },
    {
      "cell_type": "code",
      "execution_count": 16,
      "metadata": {
        "colab": {
          "base_uri": "https://localhost:8080/"
        },
        "id": "a_tiHRzXyWlI",
        "outputId": "8c9e13b7-a5ae-437c-b663-68afb137c2cd"
      },
      "outputs": [
        {
          "data": {
            "text/plain": [
              "{'wright': 1,\n",
              " 'dullish': 2,\n",
              " 'hidalgo': 3,\n",
              " 'lease': 4,\n",
              " 'jaret': 5,\n",
              " 'classicks': 6,\n",
              " 'rancher': 7,\n",
              " 'sewanee': 8,\n",
              " 'pollen': 9,\n",
              " 'zaps': 10}"
            ]
          },
          "execution_count": 16,
          "metadata": {},
          "output_type": "execute_result"
        }
      ],
      "source": [
        "# Encode the words to integers\n",
        "# The integers start from 1 (and not 0) as we'll pad our input vectors with zeros later\n",
        "vocab_to_int = {word: idx  for idx, word in enumerate(vocabulary, 1)}\n",
        "\n",
        "\n",
        "dict(list(vocab_to_int.items())[:10])"
      ]
    },
    {
      "cell_type": "code",
      "execution_count": 17,
      "metadata": {
        "id": "OoFBbms0Odri"
      },
      "outputs": [],
      "source": [
        "# int_vocab = dict(enumerate(unique_words))\n",
        "\n",
        "# dict(list(int_vocab.items())[:10])"
      ]
    },
    {
      "cell_type": "markdown",
      "metadata": {
        "id": "qqUAEPUhRrgk"
      },
      "source": [
        "### Tokenize Reviews"
      ]
    },
    {
      "cell_type": "code",
      "execution_count": 55,
      "metadata": {
        "id": "-hCBm_uRSeSs"
      },
      "outputs": [],
      "source": [
        "reviews_int = [] # Will store tokenized reviews\n",
        "\n",
        "# Tokenize each review\n",
        "for review in reviews_split:\n",
        "  reviews_int.append([vocab_to_int[word]  for word in review.split()])"
      ]
    },
    {
      "cell_type": "code",
      "execution_count": 56,
      "metadata": {
        "colab": {
          "base_uri": "https://localhost:8080/"
        },
        "id": "NEEqBATa5Szf",
        "outputId": "671b3a3b-a902-44c2-9970-6b35183e34c5"
      },
      "outputs": [
        {
          "name": "stdout",
          "output_type": "stream",
          "text": [
            "REVIEW:\n",
            "   why didn  t the producers give that show a chance of all the junk on tv  why didn  t the producers give six degrees a chance  will the series go on video  i would love to see how it ends  put season one on video and sell it  i was a loyal fan of six degrees and waited for it  s return  i set my recorder to tape all of the shows  thank god for that  i just found out that the show was canceled and i  m heart broken  i wish i knew it was going to be canceled  why didn  t they tell us  i thought the show was just developing some depth in the characters  the writing was pretty good also  steven  campbell scott  is my all time favorite  i am so sorry to see it go   \n",
            "\n",
            "   No. of words in the review: 140\n",
            "\n",
            "--------------------\n",
            "\n",
            "TOKENIZED VERSION:\n",
            "   [34613, 1859, 66231, 57837, 31361, 41845, 14677, 20940, 67116, 66365, 1861, 48910, 57837, 54250, 62973, 50266, 34613, 1859, 66231, 57837, 31361, 41845, 3771, 20551, 67116, 66365, 72109, 57837, 56061, 64799, 62973, 20254, 29100, 13990, 56685, 60617, 68179, 40273, 62951, 37111, 48835, 46148, 11276, 62973, 20254, 40138, 68575, 62951, 29100, 16256, 67116, 31376, 49877, 1861, 3771, 20551, 40138, 14834, 26736, 62951, 2939, 16211, 29100, 50195, 40443, 2712, 60617, 33459, 48910, 1861, 57837, 31020, 38168, 71261, 26736, 14677, 29100, 4832, 38078, 65934, 14677, 57837, 20940, 16256, 5481, 40138, 29100, 56868, 35067, 4468, 29100, 861, 29100, 6245, 62951, 16256, 51197, 60617, 32075, 5481, 34613, 1859, 66231, 5781, 72801, 25414, 29100, 42372, 57837, 20940, 16256, 4832, 55874, 18121, 65036, 46633, 57837, 29158, 57837, 17838, 16256, 27107, 69743, 48675, 51418, 64782, 40457, 9243, 40443, 48910, 67032, 44646, 29100, 41409, 31307, 45905, 60617, 68179, 62951, 64799]\n",
            "\n",
            "   No. of tokens in the tokenized version: 140\n"
          ]
        }
      ],
      "source": [
        "rand_idx = random.randint(0, len(reviews_split))\n",
        "\n",
        "print(f\"REVIEW:\\n   {reviews_split[rand_idx]}\\n\")\n",
        "print(f\"   No. of words in the review: {len(reviews_split[rand_idx].split())}\\n\")\n",
        "\n",
        "print(\"-\" * 20)\n",
        "\n",
        "print(f\"\\nTOKENIZED VERSION:\\n   {reviews_int[rand_idx]}\\n\")\n",
        "print(f\"   No. of tokens in the tokenized version: {len(reviews_int[rand_idx])}\")\n"
      ]
    },
    {
      "cell_type": "markdown",
      "metadata": {
        "id": "thGTreQR874O"
      },
      "source": [
        "### Encode Labels"
      ]
    },
    {
      "cell_type": "code",
      "execution_count": 57,
      "metadata": {
        "colab": {
          "base_uri": "https://localhost:8080/"
        },
        "id": "M3cW2g1j8_Xj",
        "outputId": "6997e903-7546-4c71-fd3d-8f10cbc97093"
      },
      "outputs": [
        {
          "name": "stdout",
          "output_type": "stream",
          "text": [
            "No. of labels: 25000\n",
            "[1 0 1 0 1 0 1 0 1 0 1 0 1 0 1 0 1 0 1 0]\n"
          ]
        }
      ],
      "source": [
        "encoded_labels = np.array([1 if label==\"positive\" else 0  for label in labels])\n",
        "print(f\"No. of labels: {len(encoded_labels)}\")\n",
        "print(encoded_labels[:20])"
      ]
    },
    {
      "cell_type": "code",
      "execution_count": 58,
      "metadata": {
        "colab": {
          "base_uri": "https://localhost:8080/"
        },
        "id": "UGfH6HUQTcGq",
        "outputId": "78121cc2-79a3-4bc1-9bda-ff2e7d59dfb1"
      },
      "outputs": [
        {
          "name": "stdout",
          "output_type": "stream",
          "text": [
            "The length of the longest review is 2514.\n",
            "The average length of reviews is 240.81\n"
          ]
        }
      ],
      "source": [
        "# Get length of the longest review\n",
        "max_len = max(len(review)  for review in reviews_int)\n",
        "\n",
        "# Get the average length of reviews\n",
        "avg_len = sum([len(review)  for review in reviews_int]) / len(reviews_int)\n",
        "\n",
        "print(f\"The length of the longest review is {max_len}.\")\n",
        "print(f\"The average length of reviews is {avg_len:.2f}\")"
      ]
    },
    {
      "cell_type": "code",
      "execution_count": 60,
      "metadata": {},
      "outputs": [
        {
          "data": {
            "text/plain": [
              "0"
            ]
          },
          "execution_count": 60,
          "metadata": {},
          "output_type": "execute_result"
        }
      ],
      "source": [
        "review_lengths[2514]"
      ]
    },
    {
      "cell_type": "code",
      "execution_count": 22,
      "metadata": {
        "id": "9le0fC2eVgnE"
      },
      "outputs": [],
      "source": [
        "def pad_reviews_with_zeros(reviews_int, seq_length):\n",
        "  features = np.zeros((len(reviews_int), seq_length), dtype=np.int32)\n",
        "\n",
        "  for idx, review in enumerate(reviews_int):\n",
        "    features[idx][-len(review):] = np.array(review)[:seq_length] \n",
        "\n",
        "  return features"
      ]
    },
    {
      "cell_type": "code",
      "execution_count": 23,
      "metadata": {
        "colab": {
          "base_uri": "https://localhost:8080/"
        },
        "id": "dSk7-76XI13v",
        "outputId": "9cac5747-7d64-439a-fb89-dfeb39879f1d"
      },
      "outputs": [
        {
          "data": {
            "text/plain": [
              "array([[    0,     0,     0, ..., 62951, 24473, 66231],\n",
              "       [    0,     0,     0, ..., 32075, 71251, 42278],\n",
              "       [    0,     0,     0, ..., 60617, 10820, 56695],\n",
              "       ...,\n",
              "       [    0,     0,     0, ..., 45492, 20139, 23994],\n",
              "       [    0,     0,     0, ..., 15931, 73481,  7962],\n",
              "       [    0,     0,     0, ..., 21582,  9243, 38232]])"
            ]
          },
          "execution_count": 23,
          "metadata": {},
          "output_type": "execute_result"
        }
      ],
      "source": [
        "features = pad_reviews_with_zeros(reviews_int, seq_length=512)\n",
        "features"
      ]
    },
    {
      "cell_type": "code",
      "execution_count": 24,
      "metadata": {
        "colab": {
          "base_uri": "https://localhost:8080/"
        },
        "id": "FPsjLLJJSFbA",
        "outputId": "d81ae523-4a00-4670-f939-b216789b88d2"
      },
      "outputs": [
        {
          "data": {
            "text/plain": [
              "(numpy.ndarray, numpy.ndarray)"
            ]
          },
          "execution_count": 24,
          "metadata": {},
          "output_type": "execute_result"
        }
      ],
      "source": [
        "type(features), type(encoded_labels)"
      ]
    },
    {
      "cell_type": "code",
      "execution_count": null,
      "metadata": {
        "id": "J-lUKE-XQp1U"
      },
      "outputs": [],
      "source": []
    },
    {
      "cell_type": "code",
      "execution_count": 25,
      "metadata": {
        "id": "ZNxXIJX67lvz"
      },
      "outputs": [],
      "source": [
        "import tensorflow as tf"
      ]
    },
    {
      "cell_type": "code",
      "execution_count": 26,
      "metadata": {
        "id": "qF01wHaz7ltV"
      },
      "outputs": [],
      "source": [
        "from sklearn.model_selection import train_test_split"
      ]
    },
    {
      "cell_type": "code",
      "execution_count": 27,
      "metadata": {
        "colab": {
          "base_uri": "https://localhost:8080/"
        },
        "id": "goEMMwex7r-v",
        "outputId": "4dbb350c-2792-4258-cf24-552141554edc"
      },
      "outputs": [
        {
          "name": "stdout",
          "output_type": "stream",
          "text": [
            "\n",
            "X_train shape: (20000, 512)\n",
            "y_train shape: (20000,)\n",
            "X_test shape : (5000, 512)\n",
            "y_test shape : (5000,)\n"
          ]
        }
      ],
      "source": [
        "X_train, X_test, y_train, y_test = train_test_split(features, encoded_labels,\n",
        "                                                    test_size=0.2,\n",
        "                                                    shuffle=True)\n",
        "\n",
        "\n",
        "print(f\"\"\"\n",
        "X_train shape: {X_train.shape}\n",
        "y_train shape: {y_train.shape}\n",
        "X_test shape : {X_test.shape}\n",
        "y_test shape : {y_test.shape}\"\"\")"
      ]
    },
    {
      "cell_type": "code",
      "execution_count": 28,
      "metadata": {
        "colab": {
          "base_uri": "https://localhost:8080/"
        },
        "id": "bq18M2yf7lnx",
        "outputId": "a474dd85-3009-4030-fd4f-a6b74a141273"
      },
      "outputs": [
        {
          "name": "stdout",
          "output_type": "stream",
          "text": [
            "54 47\n"
          ]
        }
      ],
      "source": [
        "one, zero = 1, 0\n",
        "\n",
        "for  i in y_train[:100]:\n",
        "  if i == 1:\n",
        "    one = one+1\n",
        "  else:\n",
        "    zero = zero+1\n",
        "\n",
        "print(one,zero)"
      ]
    },
    {
      "cell_type": "code",
      "execution_count": 29,
      "metadata": {
        "colab": {
          "base_uri": "https://localhost:8080/"
        },
        "id": "bUtHiGkX8jyU",
        "outputId": "e7adbc55-a9a9-4cef-87d0-fba587220e30"
      },
      "outputs": [
        {
          "data": {
            "text/plain": [
              "array([1, 0, 0, 0, 1, 1, 0, 0, 1, 1, 1, 0, 1, 0, 0, 1, 1, 1, 0, 0])"
            ]
          },
          "execution_count": 29,
          "metadata": {},
          "output_type": "execute_result"
        }
      ],
      "source": [
        "y_test[:20]"
      ]
    },
    {
      "cell_type": "markdown",
      "metadata": {
        "id": "WA8lhhlb8jvU"
      },
      "source": [
        "### Generate Datasets"
      ]
    },
    {
      "cell_type": "code",
      "execution_count": 30,
      "metadata": {
        "id": "CQ44OjWj8jsG"
      },
      "outputs": [],
      "source": [
        "def get_training_dataset(X_train, y_train, batch_size=32):\n",
        "  train_dataset = tf.data.Dataset.from_tensor_slices((X_train, y_train))\n",
        "  train_dataset = train_dataset.shuffle(buffer_size=len(X_train), reshuffle_each_iteration=True)\n",
        "  train_dataset = train_dataset.batch(batch_size)\n",
        "  train_dataset = train_dataset.prefetch(buffer_size=tf.data.AUTOTUNE)\n",
        "\n",
        "  return train_dataset"
      ]
    },
    {
      "cell_type": "code",
      "execution_count": 31,
      "metadata": {
        "id": "sc2CtwDT7llV"
      },
      "outputs": [],
      "source": [
        "def get_validation_dataset(X_test, y_test, batch_size=32):\n",
        "  validation_dataset = tf.data.Dataset.from_tensor_slices((X_train, y_train))\n",
        "  validation_dataset = validation_dataset.batch(batch_size)\n",
        "\n",
        "  return validation_dataset"
      ]
    },
    {
      "cell_type": "code",
      "execution_count": 32,
      "metadata": {
        "id": "RBjV7Mr4AZj4"
      },
      "outputs": [],
      "source": [
        "# Get training dataset\n",
        "train_dataset = get_training_dataset(X_train, y_train, batch_size=32)\n",
        "\n",
        "# Get validaton dataset\n",
        "validation_dataset = get_validation_dataset(X_test, y_test, batch_size=32)"
      ]
    },
    {
      "cell_type": "code",
      "execution_count": 33,
      "metadata": {
        "colab": {
          "base_uri": "https://localhost:8080/"
        },
        "id": "DLcWk3fEAZeq",
        "outputId": "b6588698-1d23-4262-fb81-f123de12efa8"
      },
      "outputs": [
        {
          "name": "stdout",
          "output_type": "stream",
          "text": [
            "Input shape: (32, 512)\n",
            "Input: \n",
            "[[    0     0     0 ...  5805 49061 17805]\n",
            " [    0     0     0 ... 67116 38232 64893]\n",
            " [    0     0     0 ...  1861 57837 31873]\n",
            " ...\n",
            " [    0     0     0 ... 48910  1861 14677]\n",
            " [    0     0     0 ... 12990 11815 64001]\n",
            " [    0     0     0 ... 47257  7801 28306]]\n",
            "\n",
            "\n",
            "Label shape: (32,)\n",
            "Label: \n",
            "[1 1 1 0 0 1 0 0 0 1 1 1 1 1 1 1 0 1 0 0 1 0 0 1 1 0 0 1 1 0 0 1]\n"
          ]
        }
      ],
      "source": [
        "# Get sample training dataset\n",
        "sample_x, sample_y = train_dataset.as_numpy_iterator().next()\n",
        "\n",
        "print(f'Input shape: {sample_x.shape}') \n",
        "print(f'Input: \\n{sample_x}')\n",
        "print(\"\\n\")\n",
        "print(f'Label shape: {sample_y.shape}') \n",
        "print(f'Label: \\n{sample_y}')"
      ]
    },
    {
      "cell_type": "markdown",
      "metadata": {},
      "source": [
        "# Model Engineering"
      ]
    },
    {
      "cell_type": "code",
      "execution_count": 34,
      "metadata": {},
      "outputs": [],
      "source": [
        "from tensorflow.keras import layers"
      ]
    },
    {
      "cell_type": "code",
      "execution_count": 35,
      "metadata": {
        "id": "fTUhRU1lG-Eu"
      },
      "outputs": [],
      "source": [
        "embedding = layers.Embedding(input_dim=len(vocab_to_int)+1, # +1 for 0 padding\n",
        "                             output_dim=512,\n",
        "                             embeddings_initializer=\"uniform\",\n",
        "                             input_length=512)"
      ]
    },
    {
      "cell_type": "code",
      "execution_count": 36,
      "metadata": {
        "id": "46ZSuoySG-CQ"
      },
      "outputs": [
        {
          "data": {
            "text/plain": [
              "<tf.Tensor: shape=(512, 512), dtype=float32, numpy=\n",
              "array([[ 0.01910799, -0.03634294, -0.01152693, ...,  0.04791348,\n",
              "        -0.04234217, -0.00322814],\n",
              "       [ 0.01910799, -0.03634294, -0.01152693, ...,  0.04791348,\n",
              "        -0.04234217, -0.00322814],\n",
              "       [ 0.01910799, -0.03634294, -0.01152693, ...,  0.04791348,\n",
              "        -0.04234217, -0.00322814],\n",
              "       ...,\n",
              "       [ 0.02234991, -0.0158273 , -0.04439408, ..., -0.00085592,\n",
              "         0.00873505, -0.01997552],\n",
              "       [-0.01615602, -0.01785319, -0.04988476, ...,  0.03678954,\n",
              "         0.00559428, -0.01309067],\n",
              "       [ 0.01313286, -0.04200964,  0.03257532, ...,  0.04810972,\n",
              "         0.00552788,  0.02484614]], dtype=float32)>"
            ]
          },
          "execution_count": 36,
          "metadata": {},
          "output_type": "execute_result"
        }
      ],
      "source": [
        "embedding(features[0])"
      ]
    },
    {
      "cell_type": "code",
      "execution_count": 37,
      "metadata": {
        "id": "61aaOXbEG9_c"
      },
      "outputs": [
        {
          "ename": "SyntaxError",
          "evalue": "invalid syntax (3214975404.py, line 2)",
          "output_type": "error",
          "traceback": [
            "\u001b[1;36m  Input \u001b[1;32mIn [37]\u001b[1;36m\u001b[0m\n\u001b[1;33m    x = layers.LSTM(units=256, dropout=)\u001b[0m\n\u001b[1;37m                                       ^\u001b[0m\n\u001b[1;31mSyntaxError\u001b[0m\u001b[1;31m:\u001b[0m invalid syntax\n"
          ]
        }
      ],
      "source": [
        "inputs = layers.Input(shape=(512), dtype=tf.float32)\n",
        "x = layers.LSTM(units=256, dropout=)"
      ]
    },
    {
      "cell_type": "code",
      "execution_count": null,
      "metadata": {
        "id": "AiwKC6MYQpn5"
      },
      "outputs": [],
      "source": [
        "# rev = [[12, 13, 15],\n",
        "#        [45, 85, 64, 45, 63, 78, 45],\n",
        "#        [16, 75, 96, 42]]"
      ]
    },
    {
      "cell_type": "code",
      "execution_count": null,
      "metadata": {},
      "outputs": [],
      "source": []
    },
    {
      "cell_type": "code",
      "execution_count": null,
      "metadata": {},
      "outputs": [],
      "source": []
    }
  ],
  "metadata": {
    "colab": {
      "collapsed_sections": [],
      "name": "Sentiment_Analysis.ipynb",
      "provenance": []
    },
    "gpuClass": "standard",
    "kernelspec": {
      "display_name": "Python 3.9.12 ('base')",
      "language": "python",
      "name": "python3"
    },
    "language_info": {
      "codemirror_mode": {
        "name": "ipython",
        "version": 3
      },
      "file_extension": ".py",
      "mimetype": "text/x-python",
      "name": "python",
      "nbconvert_exporter": "python",
      "pygments_lexer": "ipython3",
      "version": "3.9.12"
    },
    "vscode": {
      "interpreter": {
        "hash": "88279d2366fe020547cde40dd65aa0e3aa662a6ec1f3ca12d88834876c85e1a6"
      }
    }
  },
  "nbformat": 4,
  "nbformat_minor": 0
}
